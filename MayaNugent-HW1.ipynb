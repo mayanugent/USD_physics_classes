{
 "cells": [
  {
   "cell_type": "markdown",
   "metadata": {},
   "source": [
    "# Homework 1 (due Mon, February 14)\n",
    "\n",
    "**Step 1** Rename the file (Click on HW1 next to the jupyter logo) to include your name.\n",
    "\n",
    "## Purpose: \n",
    "- To use variables, loops and functions.\n",
    "- To write readable code by appropriate choices of variable and function names.\n",
    "\n",
    "## Grading:\n",
    "Your homework should be submitted by email.  \n",
    "To receive credit for your homework submission, your jupyter notebook must meet the following requirements.  Those that do not will receive zero credit.\n",
    "- The file name has been renamed with your name.\n",
    "- Your entire submission runs correctly when run sequentially.  You can test this (and you are **strongly encouraged** to do so) by using the option: Kernel > \"Restart and Run All\".  Make sure that all the outputs are exactly as you expect.  This is what I will be doing.\n",
    "- Your submission **is not** identical to someone else's homework submission.  It is acceptable (and maybe even encouraged) to work with others on your homework, but the final result must be your own work.  The best suggestion to avoid identical code?  Do not use copy-and-paste with others' solutions.\n",
    "- Your variables and function names are descriptive (very loosely defined).  \n",
    "\n",
    "\n",
    "Your homework should be turned in by email and should be completely self-contained.  This means that your homework should be written in a proper order such that when all programming cells are run sequentially, the desired results occur.  (Test this out before you submit:  Use the Kernel Menu, then choose \"Restart and Run All\".)"
   ]
  },
  {
   "cell_type": "code",
   "execution_count": 1,
   "metadata": {},
   "outputs": [],
   "source": [
    "import numpy as np\n",
    "import matplotlib.pyplot as plt\n",
    "import ipywidgets as widgets"
   ]
  },
  {
   "cell_type": "markdown",
   "metadata": {},
   "source": [
    "<b>Exercise:</b> Consider the sum \n",
    "\n",
    "$\\displaystyle p(\\lambda) = \\sum_{n=0}^{10} \\frac{e^{-\\lambda} \\lambda^n}{n!}$, \n",
    "\n",
    "which is the probability of measuring zero to ten counts in a process that has a Poisson distribution with average value of $\\lambda$.  Create a slider that allows for values of $\\lambda$ from 1 to 20 in increments of 0.1 that calculates $p(\\lambda)$.  (Note: you will use the factorial function,`np.math.factorial()` and the exponential function is given by `np.exp()`.) You should notice if $\\lambda$ is small, the probability should be near 1, and this probability gets smaller as $\\lambda$ gets bigger.  Use $p(20) = 0.0108$ to make sure your code works. (Please note that `lambda` is a command that Python uses, so you cannot use `lambda` as a variable name.)"
   ]
  },
  {
   "cell_type": "code",
   "execution_count": 2,
   "metadata": {},
   "outputs": [
    {
     "data": {
      "application/vnd.jupyter.widget-view+json": {
       "model_id": "78eeee7c20a7462c8140db548a4e1a9c",
       "version_major": 2,
       "version_minor": 0
      },
      "text/plain": [
       "interactive(children=(FloatSlider(value=10.0, description='x', max=20.0, min=1.0), Output()), _dom_classes=('w…"
      ]
     },
     "metadata": {},
     "output_type": "display_data"
    },
    {
     "data": {
      "text/plain": [
       "<function __main__.p(x)>"
      ]
     },
     "execution_count": 2,
     "metadata": {},
     "output_type": "execute_result"
    }
   ],
   "source": [
    "def p(x):\n",
    "    N =10\n",
    "    probability = 0\n",
    "    for i in range(N+1):\n",
    "        probability = probability + ((np.exp(-x) * (x**i)) / np.math.factorial(i))\n",
    "    return(probability)\n",
    "widgets.interact(p,x=(1,20,0.1))"
   ]
  },
  {
   "cell_type": "markdown",
   "metadata": {},
   "source": [
    "<b>Exercise:</b>  Consider the integral\n",
    "\n",
    "$\\displaystyle \\int_0^2 \\sqrt{4 - x^2} dx = \\pi$\n",
    "\n",
    "We can calculate the integral using the rectangle rule doing the following:\n",
    "- Create a function, $c (x) = \\sqrt{4 - x^2}$.  Your function should accept x as the input and output the value $\\sqrt{4 - x^2}$.\n",
    "- Perform the rectangle rule by breaking the interval into N rectangles, \n",
    "\n",
    "$\\displaystyle \\sum_{i = 0}^{N-1} c ( i \\Delta x ) \\Delta x, \\qquad$ where $\\displaystyle\\qquad \\Delta x = \\frac{2}{N}$\n",
    "\n",
    "This is the summation of the function c, evaluated at input i times $\\Delta x$, multiplied by $\\Delta x$.\n",
    "\n",
    "- Create a function (give it a name, more complicated than just a random letter or letters) whose input is N and output is the sum above. \n",
    "\n",
    "\n",
    "- Create a slider that takes N from 10 to 1000 in increments of 10 to be certain that your function approaches the correct answer.\n",
    "\n",
    "- Finally, call your function with N = 10000.  Increase N by a factor of 10 (i.e., add another zero), until it takes your computer a few seconds to calculate to see how close to $\\pi$ you get.  (Do not add more zeros, unless you want to wait up to a minute or two for it to finish calculating.)"
   ]
  },
  {
   "cell_type": "code",
   "execution_count": 3,
   "metadata": {},
   "outputs": [],
   "source": [
    "def c(x):\n",
    "    return(np.sqrt(4-x**2))"
   ]
  },
  {
   "cell_type": "code",
   "execution_count": 4,
   "metadata": {},
   "outputs": [
    {
     "name": "stdout",
     "output_type": "stream",
     "text": [
      "2.0\n",
      "3.732050807568877\n"
     ]
    }
   ],
   "source": [
    "N=2\n",
    "rectangle = 0\n",
    "for i in range(N):\n",
    "    delta_x = 2 / N\n",
    "    rectangle = rectangle + (c(i*delta_x)*delta_x)\n",
    "    summ = rectangle\n",
    "    print(summ)"
   ]
  },
  {
   "cell_type": "code",
   "execution_count": 5,
   "metadata": {},
   "outputs": [],
   "source": [
    "def integral(N):\n",
    "    rectangle = 0\n",
    "    for i in range(N):\n",
    "        delta_x = 2 / N\n",
    "        rectangle = rectangle + (c(i*delta_x)*delta_x)\n",
    "        summ = rectangle\n",
    "    return(summ)"
   ]
  },
  {
   "cell_type": "code",
   "execution_count": 6,
   "metadata": {},
   "outputs": [
    {
     "data": {
      "application/vnd.jupyter.widget-view+json": {
       "model_id": "547ab330dc8c4cc7898331811a05b93b",
       "version_major": 2,
       "version_minor": 0
      },
      "text/plain": [
       "interactive(children=(IntSlider(value=500, description='N', max=1000, min=10, step=10), Output()), _dom_classe…"
      ]
     },
     "metadata": {},
     "output_type": "display_data"
    },
    {
     "data": {
      "text/plain": [
       "<function __main__.integral(N)>"
      ]
     },
     "execution_count": 6,
     "metadata": {},
     "output_type": "execute_result"
    }
   ],
   "source": [
    "widgets.interact(integral,N=(10,1000,10))"
   ]
  },
  {
   "cell_type": "code",
   "execution_count": 7,
   "metadata": {},
   "outputs": [
    {
     "data": {
      "text/plain": [
       "3.143555466911028"
      ]
     },
     "execution_count": 7,
     "metadata": {},
     "output_type": "execute_result"
    }
   ],
   "source": [
    "integral(1000)"
   ]
  },
  {
   "cell_type": "code",
   "execution_count": 8,
   "metadata": {},
   "outputs": [
    {
     "data": {
      "text/plain": [
       "3.1417914776113167"
      ]
     },
     "execution_count": 8,
     "metadata": {},
     "output_type": "execute_result"
    }
   ],
   "source": [
    "integral(10000)"
   ]
  },
  {
   "cell_type": "code",
   "execution_count": 9,
   "metadata": {},
   "outputs": [
    {
     "data": {
      "text/plain": [
       "3.1416126164019564"
      ]
     },
     "execution_count": 9,
     "metadata": {},
     "output_type": "execute_result"
    }
   ],
   "source": [
    "integral(100000)"
   ]
  },
  {
   "cell_type": "code",
   "execution_count": 10,
   "metadata": {},
   "outputs": [
    {
     "data": {
      "text/plain": [
       "3.1415946524138207"
      ]
     },
     "execution_count": 10,
     "metadata": {},
     "output_type": "execute_result"
    }
   ],
   "source": [
    "integral(1000000)"
   ]
  },
  {
   "cell_type": "code",
   "execution_count": 11,
   "metadata": {},
   "outputs": [
    {
     "data": {
      "text/plain": [
       "3.1415946524138207"
      ]
     },
     "execution_count": 11,
     "metadata": {},
     "output_type": "execute_result"
    }
   ],
   "source": [
    "integral(1000000)"
   ]
  },
  {
   "cell_type": "code",
   "execution_count": null,
   "metadata": {},
   "outputs": [],
   "source": []
  }
 ],
 "metadata": {
  "kernelspec": {
   "display_name": "Python 3 (ipykernel)",
   "language": "python",
   "name": "python3"
  },
  "language_info": {
   "codemirror_mode": {
    "name": "ipython",
    "version": 3
   },
   "file_extension": ".py",
   "mimetype": "text/x-python",
   "name": "python",
   "nbconvert_exporter": "python",
   "pygments_lexer": "ipython3",
   "version": "3.9.7"
  }
 },
 "nbformat": 4,
 "nbformat_minor": 2
}
