{
 "cells": [
  {
   "cell_type": "markdown",
   "id": "f5339122",
   "metadata": {},
   "source": [
    "# Individual Lab --- Week 2\n",
    "\n",
    "Your individual lab should be turned in by email and should be completely self-contained.  This means that this  should be written in a proper order such that when all programming cells are run sequentially, the desired results occur.  (Test this out before you submit:  Use the Kernel Menu, then choose \"Restart and Run All\".)\n",
    "\n",
    "As necessary, I have included your work from last week.  You must complete the questions below, which are the questions remaining from Week 1.  At the end of the 90 minute period, please send me an email with your completed work.\n",
    "\n",
    "At any time during this session, I am willing to give you confirmation if you have completed a given goal."
   ]
  },
  {
   "cell_type": "code",
   "execution_count": 1,
   "id": "e8c8c062",
   "metadata": {},
   "outputs": [],
   "source": [
    "%matplotlib inline\n",
    "import numpy as np\n",
    "import matplotlib.pyplot as plt\n",
    "import ipywidgets as widgets"
   ]
  },
  {
   "cell_type": "markdown",
   "id": "fe2ad0fc",
   "metadata": {},
   "source": [
    "# Question 4\n",
    "**import a function, plot, and use a slider** (see, e.g., Lab 6)\n",
    "\n",
    "Make sure you download and include the file, ``individual2.py`` in the same folder as this lab.  The file has a function, ``free_fall(t, v0)`` whose inputs are a time, t, in seconds, and an initial velocity in the y-direction in m/s and returns the displacement of the object in free fall.  We want to create a slider to explore different initial velocities.  We want to:\n",
    "\n",
    "- ``import`` the functions from this file\n",
    "- Create a function that takes the initial velocity as an input (in m/s), then creates a plot (displacement versus time) between t = 0 and 4 seconds with enough points to clearly see the trajectory, and make it smooth.  \n",
    "- Create a slider to plot the free fall trajectories for different initial velocities, from 5 to 20 m/s."
   ]
  },
  {
   "cell_type": "code",
   "execution_count": 2,
   "id": "e8a825b1",
   "metadata": {},
   "outputs": [],
   "source": [
    "import individual2 as indiv2"
   ]
  },
  {
   "cell_type": "code",
   "execution_count": 3,
   "id": "625cd745",
   "metadata": {
    "scrolled": true
   },
   "outputs": [],
   "source": [
    "def freefall_plot(vy):\n",
    "    time = np.linspace(0, 4, 500)\n",
    "    displacement = np.zeros(len(time))\n",
    "    \n",
    "    for i in range(len(time)):\n",
    "        displacement[i] = indiv2.free_fall(time[i], vy)\n",
    "        \n",
    "    plt.figure()\n",
    "    plt.plot(time, displacement)\n",
    "    plt.xlabel(\"time (s)\")\n",
    "    plt.ylabel(\"displacement (m)\")\n",
    "    plt.show()"
   ]
  },
  {
   "cell_type": "code",
   "execution_count": 4,
   "id": "58655a90",
   "metadata": {},
   "outputs": [
    {
     "data": {
      "application/vnd.jupyter.widget-view+json": {
       "model_id": "d28ee973c2054e1da1fd993915e2d1ee",
       "version_major": 2,
       "version_minor": 0
      },
      "text/plain": [
       "interactive(children=(IntSlider(value=12, description='vy', max=20, min=5), Output()), _dom_classes=('widget-i…"
      ]
     },
     "metadata": {},
     "output_type": "display_data"
    },
    {
     "data": {
      "text/plain": [
       "<function __main__.freefall_plot(vy)>"
      ]
     },
     "execution_count": 4,
     "metadata": {},
     "output_type": "execute_result"
    }
   ],
   "source": [
    "widgets.interact(freefall_plot, vy=(5,20))"
   ]
  },
  {
   "cell_type": "markdown",
   "id": "a49dfe6e",
   "metadata": {},
   "source": [
    "# Question 6\n",
    "## Question 6 is here from last week because you can use it to help you do Question 7.  \n",
    "**Solve an ODE** (You are strongly encouraged to use your ``time_step()`` function from Lab 10)\n",
    "\n",
    "The equation of motion for the pendulum is\n",
    "$$ \\frac{d}{dt} \\left( \\begin{array}{c} \\theta \\\\ \\omega \\end{array} \\right) = \\left( \\begin{array}{c} \\omega \\\\ - A \\sin \\theta \\end{array} \\right) $$\n",
    "Here let's use $A = 4 \\pi^2$ ``= 4 * np.pi**2`` and take the initial conditions $\\theta_0 = 0.1$ and $\\omega_0 = 0$.  You want to:\n",
    "\n",
    "- Create a function that takes an array as input, e.g., ``x_in``, and whose output is an array with 2 elements that takes care of the two elements in the derivative, $\\omega$ and $- A \\sin \\theta$.  We can associate our arrays with $\\theta$ and $\\omega$, e.g., ``theta, omega = x_in`` (just like we did in Lab 10).\n",
    "- Solve the differential equation using 5000 points between 0 and 5.\n",
    "- After setting the initial conditions (``theta = 0.1``; ``omega = 0``), you might look to create an array of these values, ``x_array[:] = [theta, omega]``.\n",
    "- Use the ``time_step()`` function from Lab 10 to solve the differential equation.\n",
    "- Plot the solution for $\\theta$ vs. time.  Label the axes appropriately (the units for $\\theta$ are radians and the units for time is seconds).  This should look like a cosine function that undergoes five periods of oscillation."
   ]
  },
  {
   "cell_type": "code",
   "execution_count": 5,
   "id": "0f23ffa6",
   "metadata": {},
   "outputs": [],
   "source": [
    "def pendulum(x_in):\n",
    "    theta, omega = x_in\n",
    "    \n",
    "    derivative = np.zeros(2)\n",
    "    derivative[:] = [omega, -A*np.sin(theta)]\n",
    "    return derivative\n",
    "\n",
    "def time_step(x_in, dt, pendulum):\n",
    "    k1 = pendulum(x_in) * dt\n",
    "    k2 = pendulum(x_in + k1) * dt\n",
    "    \n",
    "    x_final = x_in + 0.5 * (k1 + k2)\n",
    "    return x_final"
   ]
  },
  {
   "cell_type": "code",
   "execution_count": 6,
   "id": "fb24c3b4",
   "metadata": {
    "scrolled": true
   },
   "outputs": [
    {
     "data": {
      "image/png": "[encoded data removed]",
      "text/plain": [
       "<Figure size 432x288 with 1 Axes>"
      ]
     },
     "metadata": {
      "needs_background": "light"
     },
     "output_type": "display_data"
    }
   ],
   "source": [
    "time = np.linspace(0,5,5000)\n",
    "dt = time[1] - time[0]\n",
    "x_step = np.zeros(len(time))\n",
    "y_step = np.zeros(len(time))\n",
    "\n",
    "theta = 0.1\n",
    "omega = 0\n",
    "A = 4 * np.pi**2\n",
    "\n",
    "x_array = np.zeros(2)\n",
    "x_array[:] = [theta, omega]\n",
    "\n",
    "x_step[0] = x_array[0]\n",
    "y_step[0] = x_array[1]\n",
    "\n",
    "for i in range(1, len(time)):\n",
    "    x_array = time_step(x_array, dt, pendulum)\n",
    "    x_step[i] = x_array[0]\n",
    "    y_step[i] = x_array[1]\n",
    "    \n",
    "plt.figure()\n",
    "plt.plot(time, x_step)\n",
    "plt.xlabel(\" time (s)\")\n",
    "plt.ylabel(\"theta (rad)\")\n",
    "plt.show()"
   ]
  },
  {
   "cell_type": "markdown",
   "id": "c49b60b0",
   "metadata": {},
   "source": [
    "# Question 7\n",
    "**Sliders and ODE solving** (see, e.g., Lab 10)\n",
    "\n",
    "We are going to do the same thing as Question 6, but now we wish to have different initial conditions.  Create **a slider** that allows you to change the initial conditions from $\\omega_0 = 0$, to a range of $\\omega_0 = -5$ to 5, and then graphs the solution (keeping the initial $\\theta_0 = 0.1$).  You should notice that as you increase the absolute value of $\\omega_0$, not only does the amplitude increase, but the period increases as well."
   ]
  },
  {
   "cell_type": "code",
   "execution_count": 9,
   "id": "b759b9a8",
   "metadata": {},
   "outputs": [],
   "source": [
    "def pendulum(x_in, omega):\n",
    "    theta, omega = x_in\n",
    "    \n",
    "    derivative = np.zeros(2)\n",
    "    derivative[:] = [omega, -A*np.sin(theta)]\n",
    "    return derivative\n",
    "\n",
    "def time_step(x_in, dt, pendulum, omega):\n",
    "    k1 = pendulum(x_in, omega) * dt\n",
    "    k2 = pendulum(x_in + k1, omega) * dt\n",
    "    \n",
    "    x_final = x_in + 0.5 * (k1 + k2)\n",
    "    return x_final\n",
    "\n",
    "def pendulum_plot(omega):\n",
    "    time = np.linspace(0,5,5000)\n",
    "    dt = time[1] - time[0]\n",
    "    x_step = np.zeros(len(time))\n",
    "    y_step = np.zeros(len(time))\n",
    "\n",
    "    theta = 0.1\n",
    "    A = 4 * np.pi**2\n",
    "\n",
    "    x_array = np.zeros(2)\n",
    "    x_array[:] = [theta, omega]\n",
    "\n",
    "    x_step[0] = x_array[0]\n",
    "    y_step[0] = x_array[1]\n",
    "\n",
    "    for i in range(1, len(time)):\n",
    "        x_array = time_step(x_array, dt, pendulum, omega)\n",
    "        x_step[i] = x_array[0]\n",
    "        y_step[i] = x_array[1]\n",
    "    \n",
    "    plt.figure()\n",
    "    plt.plot(time, x_step)\n",
    "    plt.xlabel(\" time (s)\")\n",
    "    plt.ylabel(\"theta (rad)\")\n",
    "    plt.show()"
   ]
  },
  {
   "cell_type": "code",
   "execution_count": 10,
   "id": "5c3e7216",
   "metadata": {},
   "outputs": [
    {
     "data": {
      "application/vnd.jupyter.widget-view+json": {
       "model_id": "e0378eab1cb548af8e53b81663d130cc",
       "version_major": 2,
       "version_minor": 0
      },
      "text/plain": [
       "interactive(children=(IntSlider(value=0, description='omega', max=5, min=-5), Output()), _dom_classes=('widget…"
      ]
     },
     "metadata": {},
     "output_type": "display_data"
    },
    {
     "data": {
      "text/plain": [
       "<function __main__.pendulum_plot(omega)>"
      ]
     },
     "execution_count": 10,
     "metadata": {},
     "output_type": "execute_result"
    }
   ],
   "source": [
    "widgets.interact(pendulum_plot, omega=(-5,5))"
   ]
  },
  {
   "cell_type": "code",
   "execution_count": null,
   "id": "f80d6444",
   "metadata": {},
   "outputs": [],
   "source": []
  }
 ],
 "metadata": {
  "kernelspec": {
   "display_name": "Python 3 (ipykernel)",
   "language": "python",
   "name": "python3"
  },
  "language_info": {
   "codemirror_mode": {
    "name": "ipython",
    "version": 3
   },
   "file_extension": ".py",
   "mimetype": "text/x-python",
   "name": "python",
   "nbconvert_exporter": "python",
   "pygments_lexer": "ipython3",
   "version": "3.9.7"
  }
 },
 "nbformat": 4,
 "nbformat_minor": 5
}
