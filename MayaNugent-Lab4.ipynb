{
 "cells": [
  {
   "cell_type": "markdown",
   "metadata": {},
   "source": [
    "# The Double Slit Experiment"
   ]
  },
  {
   "cell_type": "code",
   "execution_count": 1,
   "metadata": {},
   "outputs": [],
   "source": [
    "%matplotlib inline\n",
    "import numpy as np\n",
    "import matplotlib.pyplot as plt\n",
    "import ipywidgets as widgets"
   ]
  },
  {
   "cell_type": "markdown",
   "metadata": {},
   "source": [
    "# Interference Phenomena\n",
    "\n",
    "The interference pattern is formed when many waves add together after traveling different distances from source to screen (where the pattern is observed).  We start, mathematically, with the wave\n",
    "$$E(r, t) = e^{i (k r - \\omega t)},$$\n",
    "\n",
    "with $k = 2 \\pi / \\lambda$, and $r$ is the distance the wave traveled from its initial location (at the slits).  When $N$ different waves interfere, we first need the total wave,\n",
    "$$E_{\\rm tot} = \\sum_{m=0}^{N-1} e^{i (k r_m - \\omega t)} = e^{-i \\omega t} \\sum_{m=0}^{N-1} e^{i k r_m} ,$$\n",
    "\n",
    "where the sum is from $m = 0$ to $m = N-1$ to match Python's numbering scheme and the $r_m$ are the different distances that waves travel from slit to screen.  When we deal with light, the frequency of visible light waves ($\\sim 10^{15}~{\\rm Hz}$) is much greater than the frequency at which we can mmeasure light, so we have to average over many cycles.  This makes it mathematically convenient, because this time-averaged intensity (we will just call it \"the intensity\") is given (using these complex exponentials) by\n",
    "$$I \\propto \\left\\vert E_{\\rm tot} \\right\\vert^2 = \\left\\vert \\left( \\sum_{m=0}^{N-1} e^{i k r_m} \\right) \\right\\vert^2 = \\left\\vert \\left( \\sum_{m=0}^{N-1} e^{i (2 \\pi r_m / \\lambda)} \\right) \\right\\vert^2 .$$\n",
    "\n",
    "To calculate the intensity, we need to\n",
    "- calculate the $r_m$, the distances from the slits to a given location on the screen\n",
    "- calculate the sum of the complex exponentials\n",
    "- take the absolute value squared of this sum\n",
    "\n",
    "Fortunately, Python deals well with complex numbers and can do this for us. What remains is to translate these mathematical tasks into code."
   ]
  },
  {
   "attachments": {
    "282fig1.jpg": {
     "image/jpeg": "[encoded data removed]"
    }
   },
   "cell_type": "markdown",
   "metadata": {},
   "source": [
    "The figure below illustrates the geometry of the Double Slit system with \n",
    "- $s$, the distance from the centerline to the slit \n",
    "- $y$, the distance from the centerline to the location on the screen\n",
    "- $L$, the distance between the slits and the screen\n",
    "\n",
    "![282fig1.jpg](attachment:282fig1.jpg)"
   ]
  },
  {
   "cell_type": "markdown",
   "metadata": {},
   "source": [
    "The natural units to use for these quantities are:\n",
    "- $y$ in mm\n",
    "- $s$ in mm\n",
    "- $L$ in m\n",
    "- $\\lambda$, the wavelength of light, in nm\n",
    "\n",
    "Although these are the natural units to work with, we need to use the same set of units.  Let's choose m.  The function below will create the conversion:"
   ]
  },
  {
   "cell_type": "code",
   "execution_count": 2,
   "metadata": {},
   "outputs": [],
   "source": [
    "def convert_units(y_mm, s_mm, L_m, lam_nm):\n",
    "    y_m = y_mm * 1e-3\n",
    "    s_m = s_mm * 1e-3\n",
    "    lam_m = lam_nm * 1e-9\n",
    "    return y_m, s_m, L_m, lam_m"
   ]
  },
  {
   "cell_type": "markdown",
   "metadata": {},
   "source": [
    "We can use this function to take inputs in the most natural units and create variables that are in SI units.  For example, run the following to convert y = 50 mm, s = 0.05 mm, L = 2 m, $\\lambda$ = 400 nm."
   ]
  },
  {
   "cell_type": "code",
   "execution_count": 3,
   "metadata": {},
   "outputs": [
    {
     "name": "stdout",
     "output_type": "stream",
     "text": [
      "(0.05, 5e-05, 2, 4.0000000000000003e-07)\n"
     ]
    }
   ],
   "source": [
    "print(convert_units(50,0.05,2,400))"
   ]
  },
  {
   "cell_type": "markdown",
   "metadata": {},
   "source": [
    "This creates four numbers, so we can save them into four variables:"
   ]
  },
  {
   "cell_type": "code",
   "execution_count": 4,
   "metadata": {},
   "outputs": [
    {
     "name": "stdout",
     "output_type": "stream",
     "text": [
      "0.05 5e-05 2 4.0000000000000003e-07\n"
     ]
    }
   ],
   "source": [
    "y, s, L, lam = convert_units(50,0.05,2,400)\n",
    "print(y, s, L, lam)"
   ]
  },
  {
   "cell_type": "markdown",
   "metadata": {},
   "source": [
    "The distance that the waves travel is\n",
    "$$r = \\sqrt{(y-s)^2 + L^2}.$$\n",
    "\n",
    "The first thing we need to do is to calculate the distance, $r$ as shown above.  Create a function that has inputs:\n",
    "- ``y_in_m`` (the distance above the centerline on the screen in m)\n",
    "- ``s_in_m`` (the distance above the centerline of a slit location in m)\n",
    "- ``L_in_m`` (the distance between the slit and screen in m)\n",
    "\n",
    "and outputs the distance, in meters.\n",
    "\n",
    "Your function should take these three inputs and output the distance in meters by implementing the equtaion above.  (`np.sqrt( )` will take the square root)"
   ]
  },
  {
   "cell_type": "code",
   "execution_count": 5,
   "metadata": {},
   "outputs": [],
   "source": [
    "def wave_distance(y_in_m,s_in_m,L_in_m):\n",
    "    return np.sqrt((y_in_m-s_in_m)**2+L_in_m**2)"
   ]
  },
  {
   "cell_type": "markdown",
   "metadata": {},
   "source": [
    "To test this function, we note that (when $L \\gg d$) when slits are located at $s = d/2, -d/2$, it follows that:\n",
    "\n",
    "$\\Delta r = $ ``r (y, -d/2, L) - r(y, d/2, L)`` $ = d \\sin \\theta$, where $L \\tan \\theta = y$.\n",
    "\n",
    "Let's start with y = 50 mm, d = 0.05 mm, L = 2 m, and $\\lambda = 400 m$.  Let's use our ``convert_units( )`` function to create variables that have these four values, all in meters."
   ]
  },
  {
   "cell_type": "code",
   "execution_count": 6,
   "metadata": {},
   "outputs": [
    {
     "name": "stdout",
     "output_type": "stream",
     "text": [
      "0.05 5e-05 2 4.0000000000000003e-07\n"
     ]
    }
   ],
   "source": [
    "y, d, L, lam = convert_units(50,0.05,2,400)\n",
    "print (y,d,L,lam)"
   ]
  },
  {
   "cell_type": "markdown",
   "metadata": {},
   "source": [
    "Next, let's calculate $\\Delta r$ by using the function we created to calculate $r$ using the inputs ``y, -d/2, L`` and ``y, d/2, L``."
   ]
  },
  {
   "cell_type": "code",
   "execution_count": 7,
   "metadata": {},
   "outputs": [
    {
     "name": "stdout",
     "output_type": "stream",
     "text": [
      "2.000625527335138\n"
     ]
    }
   ],
   "source": [
    "ra = wave_distance(y,-d/2,L)\n",
    "print(ra)"
   ]
  },
  {
   "cell_type": "code",
   "execution_count": 8,
   "metadata": {},
   "outputs": [
    {
     "name": "stdout",
     "output_type": "stream",
     "text": [
      "2.0006242777255805\n"
     ]
    }
   ],
   "source": [
    "rb = wave_distance(y,d/2,L)\n",
    "print(rb)"
   ]
  },
  {
   "cell_type": "code",
   "execution_count": 9,
   "metadata": {},
   "outputs": [
    {
     "name": "stdout",
     "output_type": "stream",
     "text": [
      "1.249609557607556e-06\n"
     ]
    }
   ],
   "source": [
    "delta_r = ra - rb\n",
    "print(delta_r)"
   ]
  },
  {
   "cell_type": "markdown",
   "metadata": {},
   "source": [
    "To test our resuult, we need to calculate $d \\sin \\theta$.  We have $d$, but we need $\\theta$.  We can use Python to begin to calculate, these values, beginning with $\\theta = \\tan^{-1} \\frac{y}{L}$.  Use your appropriate variables in the ``np.arctan( )`` function below."
   ]
  },
  {
   "cell_type": "code",
   "execution_count": 10,
   "metadata": {},
   "outputs": [
    {
     "name": "stdout",
     "output_type": "stream",
     "text": [
      "0.02499479361892016\n"
     ]
    }
   ],
   "source": [
    "theta = np.arctan(y/L)\n",
    "print(theta)"
   ]
  },
  {
   "cell_type": "markdown",
   "metadata": {},
   "source": [
    "Now that we know $\\theta$, use this variable to calculate $d \\sin \\theta$, and print out its value"
   ]
  },
  {
   "cell_type": "code",
   "execution_count": 11,
   "metadata": {},
   "outputs": [
    {
     "name": "stdout",
     "output_type": "stream",
     "text": [
      "1.2496095580101536e-06\n"
     ]
    }
   ],
   "source": [
    "d_sin_theta = d*np.sin(theta)\n",
    "print(d_sin_theta)"
   ]
  },
  {
   "cell_type": "markdown",
   "metadata": {},
   "source": [
    "# STOP:  Confirm that this is a good approximation.  If not, double check your code until the approximation works."
   ]
  },
  {
   "cell_type": "markdown",
   "metadata": {},
   "source": [
    "Next, we want to create a new function that will output the value of the wave that has wavelength, $\\lambda$, after it has traveled a distance, $r$:  $e^{i 2 \\pi r / \\lambda}$.  Your function should have two inputs:\n",
    "- $r$:  distance traveled (in m)\n",
    "- $\\lambda$: wavelength (in m).  Remember ``lambda`` is reserved by Python, so it cannot be your variable name.\n",
    "\n",
    "The output from the function should be $e^{i 2 \\pi r / \\lambda}$.  We will do our unit conversion **before** this function (that's why both inputs should be in units of m), so we don't need to worry about it."
   ]
  },
  {
   "cell_type": "code",
   "execution_count": 12,
   "metadata": {},
   "outputs": [],
   "source": [
    "def wave_value(r_m, lamda_m):\n",
    "    return np.exp(1j*2*np.pi*r_m/lamda_m)"
   ]
  },
  {
   "cell_type": "markdown",
   "metadata": {},
   "source": [
    "Test your function out with each of the $r$ values from before to make sure it works (i.e., runs without error and returns a complex number)."
   ]
  },
  {
   "cell_type": "code",
   "execution_count": 13,
   "metadata": {},
   "outputs": [
    {
     "data": {
      "text/plain": [
       "(0.4163065649552795-0.9092243089442427j)"
      ]
     },
     "execution_count": 13,
     "metadata": {},
     "output_type": "execute_result"
    }
   ],
   "source": [
    "wave_value(ra,lam)"
   ]
  },
  {
   "cell_type": "code",
   "execution_count": 14,
   "metadata": {},
   "outputs": [
    {
     "data": {
      "text/plain": [
       "(-0.34279049795751887-0.9394118769262161j)"
      ]
     },
     "execution_count": 14,
     "metadata": {},
     "output_type": "execute_result"
    }
   ],
   "source": [
    "wave_value(rb,lam)"
   ]
  },
  {
   "cell_type": "markdown",
   "metadata": {},
   "source": [
    "Finally, we want to find the intensity of light created by the double slit.  The double slit will have two waves that need to be added, one from $s = +d/2$ (let's call that $r_+$) and a second from $s = -d/2$ (let's call that $r_-$).  To find the intensity, we will add the waves from each slit (in complex exponential form as you just completed), <b>then</b> take the absolute value squared of this complex number (``np.abs()`` takes the absolute value of any number):  \n",
    "$${\\rm intensity} = \\big\\vert\\, e^{i 2 \\pi r_+ / \\lambda} + e^{i 2 \\pi r_- / \\lambda} \\,\\big\\vert^2 .$$\n",
    "\n",
    "To do this, we'll first <b>create a function</b> that finds the intensity at a location y on the screen, that takes as inputs:\n",
    "- y in mm\n",
    "- d in mm (the distance between the slits, assumed equidistant from the center line so that there's one slit at +d/2 and one at -d/2)\n",
    "- L in m\n",
    "- wavelength in nm\n",
    "\n",
    "We will do:\n",
    "1. First, convert the four inputs into meters.\n",
    "1. Calculate $r_+$ using $s = d/2$ as the appropriate input to calculate $r_+$\n",
    "1. Use $r_+$ to calculate $e^{i 2 \\pi r_+ / \\lambda}$.\n",
    "1. Calculate $r_-$ using $s = -d/2$ as the appropriate input to calculate $r_-$\n",
    "1. Use $r_-$ to calculate $e^{i 2 \\pi r_- / \\lambda}$\n",
    "1. Add the two waves, $e^{i 2 \\pi r_+ / \\lambda} + e^{i 2 \\pi r_- / \\lambda}$, then take the absolute value squared and return this result as the intensity at location y.\n",
    "\n",
    "Note that your functions for calculating $r$ and calculating the complex wave requires inputs in meters, so that first conversion step is essential."
   ]
  },
  {
   "cell_type": "code",
   "execution_count": 15,
   "metadata": {},
   "outputs": [],
   "source": [
    "def intensity(y,d,L,lamda):\n",
    "    y_in_m, d_in_m, L_in_m, lamda_in_m = convert_units(y,d,L,lamda)\n",
    "    \n",
    "    r_plus = wave_distance(y_in_m,d_in_m/2,L_in_m)\n",
    "    intensity_one = np.exp(1j*2*np.pi*r_plus/lamda_in_m)\n",
    "    \n",
    "    r_minus = wave_distance(y_in_m,-d_in_m/2,L_in_m)\n",
    "    intensity_two = np.exp(1j*2*np.pi*r_minus/lamda_in_m)\n",
    "    \n",
    "    return (np.abs(intensity_one+intensity_two))**2"
   ]
  },
  {
   "cell_type": "markdown",
   "metadata": {},
   "source": [
    "Now, this function allows us to make a plot.  The independent variable for our plot should be y and dependent variable is the intensity at this given y.  \n",
    "\n",
    "Make a plot of the intensity versus y for y from -50 to 50 mm, with d = 0.05 mm, L = 2 m, and $\\lambda$ = 400 nm."
   ]
  },
  {
   "cell_type": "code",
   "execution_count": 16,
   "metadata": {},
   "outputs": [
    {
     "data": {
      "image/png": "[encoded data removed]",
      "text/plain": [
       "<Figure size 432x288 with 1 Axes>"
      ]
     },
     "metadata": {
      "needs_background": "light"
     },
     "output_type": "display_data"
    }
   ],
   "source": [
    "def intensity_plot():\n",
    "    xaxis = np.linspace(-50,50,500)\n",
    "    yaxis = np.zeros(len(xaxis))\n",
    "    \n",
    "    for i in range(len(xaxis)):\n",
    "        yaxis[i] = intensity(xaxis[i],0.05,2,400)\n",
    "    \n",
    "    plt.figure()\n",
    "    plt.plot(xaxis,yaxis,color=\"deepskyblue\")\n",
    "    plt.ylim(-1,5)\n",
    "    plt.xlim(-50,50)\n",
    "    plt.xlabel(\"y (mm)\")\n",
    "    plt.ylabel(\"intensity\")\n",
    "    plt.show()\n",
    "    \n",
    "intensity_plot()"
   ]
  },
  {
   "cell_type": "markdown",
   "metadata": {},
   "source": [
    "How do we know we're right?  Textbooks will tell us that the interference pattern has a maximum when:\n",
    "\n",
    "$$\\displaystyle d \\sin \\theta = m \\lambda  \\qquad L \\tan \\theta = y \\qquad {\\rm with}  \\qquad m = 0, \\pm 1, \\ldots$$\n",
    "\n",
    "Calculate where we expect to find the maxima and compare with your plot.  Does it match?  If not, you either need to check your calculations or check your code.  (``np.arcsin()`` is the arcsin).  Do not move on until you are confident in your answer.\n",
    "\n",
    "To do this, create a function whose inputs are \n",
    "- $m$, an integer known as the mode number\n",
    "- $d$, the slit spacing in mm\n",
    "- $L$, the distance to the screen in m\n",
    "- $\\lambda$, the wavelength in nm \n",
    "\n",
    "and whose output is the value of y (in whatever units you find appropriate).  \n",
    "\n",
    "To do this:\n",
    "- You should first create a function that converts the units of the inputs to your function to meters.\n",
    "- You should think about solving the equations by having at least one intermediate step."
   ]
  },
  {
   "cell_type": "code",
   "execution_count": 17,
   "metadata": {},
   "outputs": [],
   "source": [
    "def units(d,lamda):\n",
    "    d_m = d * 1e-3\n",
    "    lamda_m = lamda * 1e-9\n",
    "    return d_m, lamda_m\n",
    "\n",
    "def confidence(m,d_mm,L,lam_nm):\n",
    "    d_in_m, lam_in_m = units(d_mm,lam_nm)\n",
    "    theta = np.arcsin(m*lam_in_m/d_in_m)\n",
    "    y_m = L*np.tan(theta)\n",
    "    return y_m"
   ]
  },
  {
   "cell_type": "code",
   "execution_count": 18,
   "metadata": {},
   "outputs": [
    {
     "name": "stdout",
     "output_type": "stream",
     "text": [
      "-0.03200409678659981\n",
      "-0.01600051202457731\n",
      "0.0\n",
      "0.01600051202457731\n",
      "0.03200409678659981\n"
     ]
    }
   ],
   "source": [
    "m_neg_2 = confidence(-2,0.05,2,400)\n",
    "print(m_neg_2)\n",
    "\n",
    "m_neg_1 = confidence(-1,0.05,2,400)\n",
    "print(m_neg_1)\n",
    "\n",
    "m_0 = confidence(0,0.05,2,400)\n",
    "print(m_0)\n",
    "\n",
    "m_1 = confidence(1,0.05,2,400)\n",
    "print(m_1)\n",
    "\n",
    "m_2 = confidence(2,0.05,2,400)\n",
    "print(m_2)"
   ]
  },
  {
   "cell_type": "markdown",
   "metadata": {},
   "source": [
    "Use your function to confirm the locations of the m = -2, -1, 0, 1, 2 maxima.  **Fix your code if these do not agree.**"
   ]
  },
  {
   "cell_type": "markdown",
   "metadata": {},
   "source": [
    "Now, what happens if you change d, L or $\\lambda$?  \n",
    "\n",
    "We can answer this with a slider.  \n",
    "\n",
    "First we need to create a function that takes d, L and $\\lambda$ as inputs, and makes a plot of intensity vs. y.  Then create a slider with three variables that will make a single plot with three sliders.  Allow for d = 0.01 to 0.10 in increments of 0.01; L = 1 to 2 in increments of 0.1; and $\\lambda$ = 400 to 700 in increments of 20.\n",
    "\n"
   ]
  },
  {
   "cell_type": "code",
   "execution_count": 19,
   "metadata": {},
   "outputs": [
    {
     "data": {
      "application/vnd.jupyter.widget-view+json": {
       "model_id": "d327b829737a474d91cbe4128b85727c",
       "version_major": 2,
       "version_minor": 0
      },
      "text/plain": [
       "interactive(children=(FloatSlider(value=0.05, description='d', max=0.1, min=0.01, step=0.01), FloatSlider(valu…"
      ]
     },
     "metadata": {},
     "output_type": "display_data"
    },
    {
     "data": {
      "text/plain": [
       "<function __main__.intensity_v_y(d, L, lamda)>"
      ]
     },
     "execution_count": 19,
     "metadata": {},
     "output_type": "execute_result"
    }
   ],
   "source": [
    "def intensity_v_y(d,L,lamda):\n",
    "    y = np.linspace(-50,50,500)\n",
    "    intens = np.zeros(len(y))\n",
    "    \n",
    "    for i in range(len(y)):\n",
    "        intens[i] = intensity(y[i],d,L,lamda)\n",
    "    \n",
    "    plt.figure()\n",
    "    plt.plot(y,intens,\"deepskyblue\")\n",
    "    plt.ylim(-1,5)\n",
    "    plt.xlim(-50,50)\n",
    "    plt.xlabel(\"y (mm)\")\n",
    "    plt.ylabel(\"intensity\")\n",
    "    plt.show()\n",
    "\n",
    "widgets.interact(intensity_v_y, d=(0.01,0.1,0.01), L=(1,2,0.1), lamda=(400,700,20))"
   ]
  },
  {
   "cell_type": "markdown",
   "metadata": {},
   "source": [
    "## Completing this lab in its entirety is Homework 4.  Please Submit by Monday, March 14\n",
    "\n",
    "Before you submit, make sure that your code works with Kernel > Restart & Run All"
   ]
  }
 ],
 "metadata": {
  "kernelspec": {
   "display_name": "Python 3 (ipykernel)",
   "language": "python",
   "name": "python3"
  },
  "language_info": {
   "codemirror_mode": {
    "name": "ipython",
    "version": 3
   },
   "file_extension": ".py",
   "mimetype": "text/x-python",
   "name": "python",
   "nbconvert_exporter": "python",
   "pygments_lexer": "ipython3",
   "version": "3.9.7"
  }
 },
 "nbformat": 4,
 "nbformat_minor": 2
}
