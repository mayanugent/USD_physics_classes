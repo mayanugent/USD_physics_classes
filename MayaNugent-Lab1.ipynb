{
 "cells": [
  {
   "cell_type": "markdown",
   "metadata": {},
   "source": [
    "# Using Python:  Variables, Loops and Functions\n",
    "\n",
    "First thing to do:  Rename the file by clicking on the file name next to the jupyter logo.  Add your name to the file name for easy searching."
   ]
  },
  {
   "cell_type": "markdown",
   "metadata": {},
   "source": [
    "## First, importing packages"
   ]
  },
  {
   "cell_type": "markdown",
   "metadata": {},
   "source": [
    "Python comes with a bare-bones set of commands.  In order to do science, the first thing we need to do is to \"import\" a number of packages of commands that are useful.  There are many useful packages, but we will typically use those below.  So, the first executed statement must always be the import statements.  **Click on the code below and hit Shift-Enter (or use the play button icon in the menu above).** "
   ]
  },
  {
   "cell_type": "code",
   "execution_count": 1,
   "metadata": {},
   "outputs": [],
   "source": [
    "import numpy as np\n",
    "import matplotlib.pyplot as plt\n",
    "import ipywidgets as widgets"
   ]
  },
  {
   "cell_type": "markdown",
   "metadata": {},
   "source": [
    "- `numpy` is a library of useful numerical functions.  When you want to access one of these you will start with `np.` followed by the name of a function, for example:  `np.sqrt(x)` gives you the square root of `x`.\n",
    "- `pyplot` is a library of useful plotting function.  You'll use functions like `plt.plot(x,y)` to create a plot\n",
    "- `ipywidgets` is a library that creates neat things like sliders, which we'll see by the end of this lab."
   ]
  },
  {
   "cell_type": "markdown",
   "metadata": {},
   "source": [
    "## Variables"
   ]
  },
  {
   "cell_type": "markdown",
   "metadata": {},
   "source": [
    "Variables are an important part of writing a code.  They are the code's way of storing information, manipulating it, and finally reporting a result.  Variables are assigned a value using the equal sign '='.  \n",
    "Variables should have descriptive names that makes your code more readable and easier to understand.  For example, let's define three variables below:  `five`, `seven`, and `twelve`.\n",
    "Run the following code:"
   ]
  },
  {
   "cell_type": "code",
   "execution_count": 2,
   "metadata": {
    "scrolled": true
   },
   "outputs": [
    {
     "name": "stdout",
     "output_type": "stream",
     "text": [
      "5+7=12\n"
     ]
    }
   ],
   "source": [
    "five = 5\n",
    "seven = 7\n",
    "twelve = five + seven\n",
    "print(\"{}+{}={}\".format(five,seven,twelve))"
   ]
  },
  {
   "cell_type": "markdown",
   "metadata": {},
   "source": [
    "- The first two lines assign values of 5 and 7 to the variables `five` and `seven`, respectively.  \n",
    "- The third line first evaluates the right hand side, `five + seven = 12`, then assigns this value to the variable `twelve`.  So, after the first three lines, `five = 5`, `seven = 7` and `twelve = 12`.  \n",
    "- The final line is a print statement.  Each `{}` serves as a place holder, since there are three place holders, the `.format(five,seven,twelve)` statements prints the value of the variable `five` in the first, `seven` in the second and `twelve` in the third.\n",
    "\n",
    "These statements are all straight forward, but the important thing to realize that these assign a value, they are not permanent mathematical statements.  What if we change the value of the variable `five`?  We can do this easily, say `five = 10`.  Now, we can again look at the values of `five`, `seven` and `twelve`.  "
   ]
  },
  {
   "cell_type": "markdown",
   "metadata": {},
   "source": [
    "## STOP:  Double click this text area and type your answer to the following question:\n",
    "\n",
    "**(1)** Look at the code immediate below.  Before you run the code, predict what Python will print out.  Don't worry if you're wrong, it's just a prediction.  Once you write your prediction, Shift-Enter to run this text box, then run the code below.\n",
    "10+7=17\n"
   ]
  },
  {
   "cell_type": "code",
   "execution_count": 3,
   "metadata": {},
   "outputs": [
    {
     "name": "stdout",
     "output_type": "stream",
     "text": [
      "10+7=12 ?\n"
     ]
    }
   ],
   "source": [
    "five = 10\n",
    "print(\"{}+{}={} ?\".format(five,seven,twelve))"
   ]
  },
  {
   "cell_type": "markdown",
   "metadata": {},
   "source": [
    "What happened?  \n",
    "- The first line sets `five = 10`.  \n",
    "- `seven` isn't changed, so `seven` remains equal to 7.  \n",
    "- `twelve` isn't changed so `twelve` remains equal to 12.  This doesn't change because `five` changes.  \n",
    "\n",
    "In the previous set of codes, `twelve` is set to 12 and it remains that way.  (While there are ways to force `twelve` to change along with changes to `five` and `seven`, we'll leave those ways to a computer science class.  The simple assignments and variables we work with here will remain unchanged.)\n",
    "\n",
    "**While there's nothing wrong with using these variables, it get's pretty confusing to read.  When you write code, you should use variable names that are appropriate and descriptive!**\n",
    "\n",
    "You can actually use the tab button to complete the name of any variable or function, so there should be no reason to avoid longer, descriptive variable names (ok, not too long.)\n"
   ]
  },
  {
   "cell_type": "markdown",
   "metadata": {},
   "source": [
    "## STOP: If your prediction for (1) above was wrong\n",
    "\n",
    "**(2)** Leave your incorrect prediction, but explain (in your own words) why your prediction was wrong.  If your prediction was correct, continue on without adding anything.\n",
    "I thought that by changing the variable 'five' it would affect the variable 'twelve'. I was wrong because 'twelve' had already been defined in the previous line of code. This means that 'twelve'=12 regardless of what 'five' and 'seven' are."
   ]
  },
  {
   "cell_type": "markdown",
   "metadata": {},
   "source": [
    "This fact will make other constructions that are useful for a computer.  Run the following code:"
   ]
  },
  {
   "cell_type": "code",
   "execution_count": 4,
   "metadata": {},
   "outputs": [
    {
     "name": "stdout",
     "output_type": "stream",
     "text": [
      "20\n"
     ]
    }
   ],
   "source": [
    "a = 10\n",
    "a = a + 10\n",
    "print(a)"
   ]
  },
  {
   "cell_type": "markdown",
   "metadata": {},
   "source": [
    "What does this mean?\n",
    "- Start with `a = 10`\n",
    "- Evaluate the right hand side, `a + 10 = 20`\n",
    "- Assign the value of 20 to a (`a = 20`)"
   ]
  },
  {
   "cell_type": "markdown",
   "metadata": {},
   "source": [
    "## STOP:  Double click this text area and type your answer to the following question:\n",
    "\n",
    "**(3)** Predict the output of the following code and write your guess below.  Please note that ``np.sin()`` means to take the sine (in radians), ``np.pi`` is equal to $\\pi$, and ``**`` memans to take an exponent, so ``a**2`` is $a^2$.\n",
    "\n",
    "Then, run this text box and run the code below.\n",
    "\n",
    "25\n"
   ]
  },
  {
   "cell_type": "code",
   "execution_count": 5,
   "metadata": {},
   "outputs": [
    {
     "name": "stdout",
     "output_type": "stream",
     "text": [
      "25.0\n"
     ]
    }
   ],
   "source": [
    "a = 20\n",
    "a = a / 4\n",
    "a = a**2 + np.sin(np.pi * a)\n",
    "print(a)"
   ]
  },
  {
   "cell_type": "markdown",
   "metadata": {},
   "source": [
    "## STOP: If your prediction for (3) above was wrong\n",
    "\n",
    "**(4)** Leave your incorrect prediction, but explain (in your own words) why your prediction was wrong.  If your prediction was correct, continue on without adding anything."
   ]
  },
  {
   "cell_type": "markdown",
   "metadata": {},
   "source": [
    "In the code block below, write code that:\n",
    "- initially sets a variable (you can choose its name) equal to 7  (Actually, you can name a variable anything, as long as there are no spaces, it begins with a letter, and doesn't use any symbols -- other than the underscore.  Here, give your variable a name that is more than just a random letter or collection of letters.)\n",
    "- add one to the variable, then divide it by 2\n",
    "- then set that same variable equal to the square root (`np.sqrt( )`) of the result\n",
    "- print your variable\n",
    "Double check that your result makes sense before you move on."
   ]
  },
  {
   "cell_type": "code",
   "execution_count": 6,
   "metadata": {},
   "outputs": [
    {
     "name": "stdout",
     "output_type": "stream",
     "text": [
      "2.0\n"
     ]
    }
   ],
   "source": [
    "mermaid = 7\n",
    "mermaid = mermaid + 1\n",
    "mermaid = mermaid / 2\n",
    "mermaid = np.sqrt(mermaid)\n",
    "print(mermaid)"
   ]
  },
  {
   "cell_type": "raw",
   "metadata": {},
   "source": []
  },
  {
   "cell_type": "markdown",
   "metadata": {},
   "source": [
    "<b>Admittedly, it's not too easy to choose a variable name without a physical context for the quantities.  We will see more obvious examples.</b>\n",
    "\n",
    "The most common usages of this form is to:\n",
    "- Advance an index by 1: `i = i + 1`\n",
    "- Advance the time by an amount dt:  `t = t + dt`\n",
    "- A summation: `sum = sum + n`"
   ]
  },
  {
   "cell_type": "markdown",
   "metadata": {},
   "source": [
    "## Loops"
   ]
  },
  {
   "cell_type": "markdown",
   "metadata": {},
   "source": [
    "Loops utilize a computer's ability to repeat a process over and over again, with a prescribed formula.  In Python, a loop is executed with a for statement.  The following code loops five times, incrementing the value of the variable `i`, and printing the value of `i`.  Run the code."
   ]
  },
  {
   "cell_type": "code",
   "execution_count": 7,
   "metadata": {},
   "outputs": [
    {
     "name": "stdout",
     "output_type": "stream",
     "text": [
      "0\n",
      "1\n",
      "2\n",
      "3\n",
      "4\n"
     ]
    }
   ],
   "source": [
    "for i in range(5):\n",
    "    print(i)"
   ]
  },
  {
   "cell_type": "markdown",
   "metadata": {},
   "source": [
    "Notice that the code that is repeated in the for loop is indented.  This is how Python identifies loops and other structures.  \n",
    "\n",
    "<b> (Note that `i` is a common choice for a variable in a loop, but nothing requires the loop variable to be called `i`) </b>\n"
   ]
  },
  {
   "cell_type": "markdown",
   "metadata": {},
   "source": [
    "## STOP:  Double click this text area and type your answer to the following question:\n",
    "\n",
    "**(5)** Predict the output of the code.  Then, run this text box and run the code below.\n",
    "\n",
    "1\n",
    "4\n",
    "9\n",
    "16\n",
    "25\n",
    "36\n",
    "49\n",
    "64"
   ]
  },
  {
   "cell_type": "code",
   "execution_count": 8,
   "metadata": {},
   "outputs": [
    {
     "name": "stdout",
     "output_type": "stream",
     "text": [
      "0\n",
      "1\n",
      "4\n",
      "9\n",
      "16\n",
      "25\n",
      "36\n",
      "49\n"
     ]
    }
   ],
   "source": [
    "for i in range(8):\n",
    "    print(i**2)"
   ]
  },
  {
   "cell_type": "markdown",
   "metadata": {},
   "source": [
    "## STOP: If your prediction for (5) above was wrong\n",
    "\n",
    "**(6)** Leave your incorrect prediction, but explain (in your own words) why your prediction was wrong.  If your prediction was correct, continue on without adding anything.\n",
    "\n",
    "I predicted that the range would be 1-8, but it was actually 0-8."
   ]
  },
  {
   "cell_type": "markdown",
   "metadata": {},
   "source": [
    "There are many uses of for loops.  One use is to compute a summation (which, in turn could be an integral).  For example, let's consider the sum of integers, $a = \\sum_{n=0}^4 n$.  This sum can be written out as $a = 0 + 1 + 2 + 3 + 4 = 10$.  If we consider our first for loop, this includes all the terms in the for loop, so we use the code: (run the code)"
   ]
  },
  {
   "cell_type": "code",
   "execution_count": 9,
   "metadata": {},
   "outputs": [
    {
     "name": "stdout",
     "output_type": "stream",
     "text": [
      "10\n"
     ]
    }
   ],
   "source": [
    "summ = 0\n",
    "for n in range(5):\n",
    "    summ = summ + n\n",
    "a = summ\n",
    "print(a)"
   ]
  },
  {
   "cell_type": "markdown",
   "metadata": {},
   "source": [
    "First off, notice the print statement is not indented.  This means the for loop (which runs for `n` = 0, 1, 2, 3, 4) does not include `print(a)`, and the print statement is executed just once.\n",
    "The logic of the code is:\n",
    "- First set `summ = 0`\n",
    "- Then loop over values of `n` from 0, 1, 2, 3, 4.  During each run of the loop, add the value of `n` to `summ` and assign it to `summ`.\n",
    "- After the loop is done, set `a = summ` then `print(a)`, the value of the sum.\n"
   ]
  },
  {
   "cell_type": "markdown",
   "metadata": {},
   "source": [
    "Let's look at the individual steps in the `for` loop:\n",
    "- n = 0\n",
    "    - summ + n = 0\n",
    "    - summ = 0\n",
    "\n",
    "Basically, `n = 0` is from the loop.  We start at 0, and increment upward.  Once we do that, we start on the right hand side of the code `summ = summ + n`, so summ + n = 0.  Then, this calculated value is now saved as the variable summ, so summ = 0.  Continuing:\n",
    "- n = 1\n",
    "    - summ + n = 1\n",
    "    - summ = 1\n",
    "- n = 2\n",
    "    - summ + n = 3\n",
    "    - summ = 3\n",
    "- n = 3\n",
    "    - summ + n = \n",
    "    - summ = \n",
    "- n = 4\n",
    "    - summ + n = \n",
    "    - summ = "
   ]
  },
  {
   "cell_type": "markdown",
   "metadata": {},
   "source": [
    "## STOP:  Double click the text box above this cell, and type your answers to the following question:\n",
    "\n",
    "**(7)** Fill in the four missing blanks above.\n",
    "\n",
    "summ + n = 6\n",
    "summ = 6\n",
    "\n",
    "summ + n = 10\n",
    "summ = 10"
   ]
  },
  {
   "cell_type": "markdown",
   "metadata": {},
   "source": [
    "## STOP:  Use the code block below and double click this text box to address the following question:\n",
    "\n",
    "**(8)** What if you took the previous code and modified it so that the two final lines, `a = summ` and `print(a)`, are indented, like the line previous.  First, in the space below, predict the output of the modified code.  Next, use the empty cell below to copy-and-paste the code, but indent the final two lines.  Run that code to test your prediction.\n",
    "\n",
    "0\n",
    "1\n",
    "3\n",
    "6\n",
    "10\n",
    "\n"
   ]
  },
  {
   "cell_type": "code",
   "execution_count": 10,
   "metadata": {},
   "outputs": [
    {
     "name": "stdout",
     "output_type": "stream",
     "text": [
      "0\n",
      "1\n",
      "3\n",
      "6\n",
      "10\n"
     ]
    }
   ],
   "source": [
    "summ = 0\n",
    "for n in range(5):\n",
    "    summ = summ + n\n",
    "    a = summ\n",
    "    print(a)"
   ]
  },
  {
   "cell_type": "markdown",
   "metadata": {},
   "source": [
    "## STOP: If your prediction for (8) above was wrong\n",
    "\n",
    "**(9)** Leave your incorrect prediction, but explain (in your own words) why your prediction was wrong.  If your prediction was correct, continue on without adding anything."
   ]
  },
  {
   "cell_type": "markdown",
   "metadata": {},
   "source": [
    "It's actually very important to have the `summ = 0` line.  For example, run the following, nearly identical code:"
   ]
  },
  {
   "cell_type": "code",
   "execution_count": 13,
   "metadata": {},
   "outputs": [
    {
     "name": "stdout",
     "output_type": "stream",
     "text": [
      "40\n"
     ]
    }
   ],
   "source": [
    "for n in range(5):\n",
    "    summ = summ + n\n",
    "print(summ)"
   ]
  },
  {
   "cell_type": "markdown",
   "metadata": {},
   "source": [
    "In fact, run it again, and again.  What's happening?  Jupyter notebook saves the value of `summ` in its memory, which means whenever you use `summ` again without initializing it as zero, it just uses the previous value.  If you re-run the previous block of code (with the `summ = 0`) line, you'll notice that the results are repeatable, and give the correct answer.  "
   ]
  },
  {
   "cell_type": "markdown",
   "metadata": {},
   "source": [
    "## STOP:  Double click this text area and type your answer to the following question:\n",
    "\n",
    "**(10)** Predict the output of the code.  Then, run this text box and run the code below.\n",
    "\n",
    "10"
   ]
  },
  {
   "cell_type": "code",
   "execution_count": 14,
   "metadata": {},
   "outputs": [
    {
     "name": "stdout",
     "output_type": "stream",
     "text": [
      "4\n"
     ]
    }
   ],
   "source": [
    "for n in range(5):\n",
    "    summ = 0\n",
    "    summ = summ + n\n",
    "print(summ)"
   ]
  },
  {
   "cell_type": "markdown",
   "metadata": {},
   "source": [
    "## STOP: If your prediction for (10) above was wrong\n",
    "\n",
    "**(11)** Leave your incorrect prediction, but explain (in your own words) why your prediction was wrong.  If your prediction was correct, continue on without adding anything.\n",
    "\n",
    "summ=0 has to go outside the loop to initially define the variable. Otherwise, the loop runs with n=0,1,2,3,4 but with summ=0 each time, instead of using summ from the previous loop."
   ]
  },
  {
   "cell_type": "markdown",
   "metadata": {},
   "source": [
    "Truly, we need to be careful of the order we use and the mathematical logic needed to follow the flow of a program."
   ]
  },
  {
   "cell_type": "markdown",
   "metadata": {},
   "source": [
    "## <b>It is good practice to use a single cell to do a task, and that you are certain to define each variable you use in that cell.</b>"
   ]
  },
  {
   "cell_type": "markdown",
   "metadata": {},
   "source": [
    "Sometimes you don't want want to begin your loop with zero, for example (run the following code):"
   ]
  },
  {
   "cell_type": "code",
   "execution_count": 15,
   "metadata": {},
   "outputs": [
    {
     "name": "stdout",
     "output_type": "stream",
     "text": [
      "2\n",
      "3\n",
      "4\n"
     ]
    }
   ],
   "source": [
    "for i in range(2,5):\n",
    "    print(i)"
   ]
  },
  {
   "cell_type": "markdown",
   "metadata": {},
   "source": [
    "In the cell below, write a code using a for loop to calculate $b = \\sum_{i=4}^8 i = 4 + 5 + 6 + 7 + 8 = 30$.  Make sure that your code prints out the final value of $b$ so that you can compare it with the expected result.  Continue to work on your code until it works.  If it doesn't work on your first try, one useful tool is to place a print statement in the for loop (as you did previously) so that you can see the intermediate steps that lead to the final result."
   ]
  },
  {
   "cell_type": "code",
   "execution_count": 16,
   "metadata": {},
   "outputs": [
    {
     "name": "stdout",
     "output_type": "stream",
     "text": [
      "30\n"
     ]
    }
   ],
   "source": [
    "summ = 0\n",
    "for i in range(4,9):\n",
    "    summ = summ + i\n",
    "a = summ\n",
    "print(a)"
   ]
  },
  {
   "cell_type": "markdown",
   "metadata": {},
   "source": [
    "<b>Exercise:</b> A pyramid number is the number of spheres needed to stack a pyramid with a square base.  The first three pyramid numbers are 1, 5 (1+4), and 14 (1+4+9).  Write a for loop to determine the 10th pyramid number.  (Note that $i^2$ is coded in Python as `i**2`.)  Make sure your code prints out the 10th pyramid number."
   ]
  },
  {
   "cell_type": "code",
   "execution_count": 17,
   "metadata": {},
   "outputs": [
    {
     "name": "stdout",
     "output_type": "stream",
     "text": [
      "385\n"
     ]
    }
   ],
   "source": [
    "pyramid = 0\n",
    "for i in range(1,11):\n",
    "    pyramid = pyramid + i**2\n",
    "a=pyramid\n",
    "print(a)"
   ]
  },
  {
   "cell_type": "markdown",
   "metadata": {},
   "source": [
    "How do you know that your answer is correct?  To do so, we need to check that some of the answers work.  For example, if we could test our code on the 1st, 2nd and 3rd pyramid numbers, we have something to compare with.  So, instead of hard-wiring our code to calculate the 10th pyramid number, we should create a variable (let's call it N here) which represents which pyramid number we're calculating.  When N = 10, we should get the same result.  When N = 1, we should get 1, N = 2 yields 5 and N = 3 yields 14.  So, rewrite your code where the first line is N = 10, as is started for you in the cell below.  Change your code until it agrees with your previous code when N = 10, and agrees with the known values for N = 1, 2 and 3 (i.e., once your code seems to work for N = 10, change that first line for N = 1, re-run and make sure you get 1, etc.)."
   ]
  },
  {
   "cell_type": "code",
   "execution_count": 22,
   "metadata": {},
   "outputs": [
    {
     "name": "stdout",
     "output_type": "stream",
     "text": [
      "385\n"
     ]
    }
   ],
   "source": [
    "N = 10\n",
    "pyramid = 0\n",
    "for i in range(1,N+1):\n",
    "    pyramid = pyramid + i**2\n",
    "a=pyramid\n",
    "print(a)\n",
    "    "
   ]
  },
  {
   "cell_type": "markdown",
   "metadata": {},
   "source": [
    "## Functions"
   ]
  },
  {
   "cell_type": "markdown",
   "metadata": {},
   "source": [
    "A function is a machine that takes input values and returns output values.  In Python, you can supply a function with as many inputs as you wish and the function can return as many outputs as you wish (even zero is allowed).  The previous exercise takes the form of a function, if you set the value of N, the function will return the Nth pyramid number.  Functions are very useful in programming because it can execute a set of commands for differing inputs.\n",
    "\n",
    "For example, we were able to calculate the summation $d = \\sum_{i=0}^4 i$.  Instead, what if we calcluated the function, $d(N) = \\sum_{i=0}^N i$.  This should look similar to our code for the sum, but using N as the total number of terms:"
   ]
  },
  {
   "cell_type": "code",
   "execution_count": 23,
   "metadata": {},
   "outputs": [],
   "source": [
    "def d_sum(N):\n",
    "    d = 0\n",
    "    for i in range(N+1):\n",
    "        d = d + i\n",
    "    return d"
   ]
  },
  {
   "cell_type": "markdown",
   "metadata": {},
   "source": [
    "Execute the code above.  While it doesn't appear that something happens, this defines a function called `d_sum`.  It takes one input, `N`, which is the upper bound of the summation.  The first line, `def d_sum(N):`, defines the function `d_sum`.  Notice two things:  first, the colon and second the entire function is indented (this is the same form as the for loop!).  Also, instead of `print(d)`, which would have printed the value of `d` after the for loop, we introduced `return d`, which is the output value of the function.  Finally, we use the function by \"calling\" it.  We call the function by writing its name and giving it an input.  For example, let's use N = 4.  This means 4 is the input to the function `d_sum`.  Run the following code."
   ]
  },
  {
   "cell_type": "code",
   "execution_count": 24,
   "metadata": {},
   "outputs": [
    {
     "data": {
      "text/plain": [
       "10"
      ]
     },
     "execution_count": 24,
     "metadata": {},
     "output_type": "execute_result"
    }
   ],
   "source": [
    "d_sum(4)"
   ]
  },
  {
   "cell_type": "markdown",
   "metadata": {},
   "source": [
    "What happened?  The function `d_sum` ran using N = 4.  The final output was then printed.\n",
    "\n",
    "But, if we look in the function, we have a variable d.  What happened to that?  Well, let's try it:"
   ]
  },
  {
   "cell_type": "code",
   "execution_count": 25,
   "metadata": {},
   "outputs": [
    {
     "ename": "NameError",
     "evalue": "name 'd' is not defined",
     "output_type": "error",
     "traceback": [
      "\u001b[1;31m---------------------------------------------------------------------------\u001b[0m",
      "\u001b[1;31mNameError\u001b[0m                                 Traceback (most recent call last)",
      "\u001b[1;32m~\\AppData\\Local\\Temp/ipykernel_23800/1152398069.py\u001b[0m in \u001b[0;36m<module>\u001b[1;34m\u001b[0m\n\u001b[1;32m----> 1\u001b[1;33m \u001b[0mprint\u001b[0m\u001b[1;33m(\u001b[0m\u001b[0md\u001b[0m\u001b[1;33m)\u001b[0m\u001b[1;33m\u001b[0m\u001b[1;33m\u001b[0m\u001b[0m\n\u001b[0m",
      "\u001b[1;31mNameError\u001b[0m: name 'd' is not defined"
     ]
    }
   ],
   "source": [
    "print(d)"
   ]
  },
  {
   "cell_type": "markdown",
   "metadata": {},
   "source": [
    "Uh oh, it tells us that the name 'd' is not defined.  What happened?  Didn't we create `d` when we used `d_sum`?  The variables used in a function are called <b>local variables</b>.  Local variables only exist inside the function, and they don't exist otherwise.\n",
    "\n",
    "So, what if I wanted to use the output from `d_sum(N)` and do something?  Well, we can create a variable by setting it to the output, for example:"
   ]
  },
  {
   "cell_type": "code",
   "execution_count": 26,
   "metadata": {},
   "outputs": [
    {
     "name": "stdout",
     "output_type": "stream",
     "text": [
      "10\n",
      "30\n"
     ]
    }
   ],
   "source": [
    "d_sum_value = d_sum(4)\n",
    "print(d_sum_value)\n",
    "print(d_sum_value * 2 + 10)"
   ]
  },
  {
   "cell_type": "markdown",
   "metadata": {
    "collapsed": true
   },
   "source": [
    "What's happening here?  \n",
    "- First, we call the function `d_sum` using `N=4`.  The result is 10.\n",
    "- `d_sum_value` is a variable that is set equal to 10.\n",
    "- `print(d_sum_value)` prints 10.\n",
    "- `print(d_sum_value * 2 + 10)` prints 2 x 10 + 10 = 30."
   ]
  },
  {
   "cell_type": "markdown",
   "metadata": {},
   "source": [
    "<b>Exercise:</b> Create a function `pyramid(N)` that returns the Nth pyramid number.  In the second input cell below, test your function by testing the values of `pyramid(1)`, `pyramid(2)`, `pyramid(3)` and `pyramid(10)`."
   ]
  },
  {
   "cell_type": "code",
   "execution_count": 27,
   "metadata": {},
   "outputs": [],
   "source": [
    "def pyramid(N):\n",
    "    pyramid = 0\n",
    "    for i in range(1,N+1):\n",
    "        pyramid = pyramid + i**2\n",
    "    return pyramid"
   ]
  },
  {
   "cell_type": "code",
   "execution_count": 28,
   "metadata": {},
   "outputs": [
    {
     "name": "stdout",
     "output_type": "stream",
     "text": [
      "1\n",
      "5\n",
      "14\n",
      "385\n"
     ]
    }
   ],
   "source": [
    "N1 = pyramid(1)\n",
    "print(N1)\n",
    "\n",
    "N2 = pyramid(2)\n",
    "print(N2)\n",
    "\n",
    "N3 = pyramid(3)\n",
    "print(N3)\n",
    "\n",
    "N10 = pyramid(10)\n",
    "print(N10)"
   ]
  },
  {
   "cell_type": "markdown",
   "metadata": {},
   "source": [
    "## Functions and Sliders"
   ]
  },
  {
   "cell_type": "markdown",
   "metadata": {},
   "source": [
    "One interesting tool we will be using are sliders.  This allows us to create output that changes depending on the value of a slider that we can manipulate.  To do this, we will use a function called `widgets.interact( )`.  The first input is the function, and the second is a range of information related to the variable.  Run the code below.  Click and change the slider to see the output."
   ]
  },
  {
   "cell_type": "code",
   "execution_count": null,
   "metadata": {},
   "outputs": [],
   "source": [
    "widgets.interact(d_sum,N=(1,100))"
   ]
  },
  {
   "cell_type": "markdown",
   "metadata": {},
   "source": [
    "You need the `widgets.interact`.  The first input is the name of the function (as you remember, `d_sum` is the function we created that calculated $\\sum_{i=0}^N i$).  The second input starts with the name of the variable in the function (`N`), equals and a range.  If the range are integers, the slider will only take on integer values.  If they have decimal places, then it will involve decimal numbers.  \n",
    "\n",
    "You can also specify a step size that chooses different values.  For example, if you replaced the last input with `N=(4,100,2)`, then the slider will go from 4 to 100, but only include values in steps of 2 (i.e., 4, 6, 8, ..., 100).  Try it!"
   ]
  },
  {
   "cell_type": "markdown",
   "metadata": {},
   "source": [
    "<b>Exercise:</b> Use your function `pyramid(N)` along with `widgets.interact` to include a slider that allows you to calculate a range of pyramid numbers.  Test with the values you know."
   ]
  },
  {
   "cell_type": "code",
   "execution_count": 29,
   "metadata": {},
   "outputs": [
    {
     "data": {
      "application/vnd.jupyter.widget-view+json": {
       "model_id": "76d38742b6fa4321ab2b4bbfa590ede3",
       "version_major": 2,
       "version_minor": 0
      },
      "text/plain": [
       "interactive(children=(IntSlider(value=5, description='N', max=10, min=1), Output()), _dom_classes=('widget-int…"
      ]
     },
     "metadata": {},
     "output_type": "display_data"
    },
    {
     "data": {
      "text/plain": [
       "<function __main__.pyramid(N)>"
      ]
     },
     "execution_count": 29,
     "metadata": {},
     "output_type": "execute_result"
    }
   ],
   "source": [
    "widgets.interact(pyramid,N=(1,10))"
   ]
  },
  {
   "cell_type": "markdown",
   "metadata": {},
   "source": [
    "# If-Then-Else\n",
    "\n",
    "Also useful is the if statement.  If the statement is true, do one thing, if not, do something else.  Run the following function definition:"
   ]
  },
  {
   "cell_type": "code",
   "execution_count": 30,
   "metadata": {},
   "outputs": [],
   "source": [
    "def yes_two(N):\n",
    "    if (N == 2):\n",
    "        print (\"yes\")\n",
    "    else:\n",
    "        print(\"no\")"
   ]
  },
  {
   "cell_type": "markdown",
   "metadata": {},
   "source": [
    "Let's see how this works.  Call the function `yes_two` three times with the following inputs:  1, 2, 3."
   ]
  },
  {
   "cell_type": "code",
   "execution_count": 31,
   "metadata": {},
   "outputs": [
    {
     "name": "stdout",
     "output_type": "stream",
     "text": [
      "no\n",
      "yes\n",
      "no\n"
     ]
    }
   ],
   "source": [
    "yes_two(1)\n",
    "yes_two(2)\n",
    "yes_two(3)"
   ]
  },
  {
   "cell_type": "markdown",
   "metadata": {},
   "source": [
    "What happens?  If N equals 2 (notice the double equal sign is used to compare two numbers, instead of the single equal that we've been using otherwise), then it prints \"yes\".  Otherwise, it prints \"no\".  Notice the if-else structure of the function.  if the condition (`N==2`) is true, it does the first thing.  If it's not true, then it does the command after else."
   ]
  },
  {
   "cell_type": "markdown",
   "metadata": {},
   "source": [
    "## STOP:  Double click this text area and type your answer to the following question:\n",
    "\n",
    "What does the function `do_something( )` do?  What function does it look like?  Write your thoughts in this text block.\n",
    "\n",
    "'do_something( )' prints the absolute value of x. If you input x, it will determine if x is greater than or less than/equal to 0. x will be printed if x>0. If x equals or is less than 0, a negative is added (negative * negative = positive) and the absolute value is printed."
   ]
  },
  {
   "cell_type": "code",
   "execution_count": 34,
   "metadata": {},
   "outputs": [],
   "source": [
    "def do_something(x):\n",
    "    if (x > 0):\n",
    "        return(x)\n",
    "    else:\n",
    "        return(-x)"
   ]
  },
  {
   "cell_type": "markdown",
   "metadata": {},
   "source": [
    "Create a slider that tests the function `do_something` for values of `x` from -5 to 5 to confirm your prediction."
   ]
  },
  {
   "cell_type": "code",
   "execution_count": 38,
   "metadata": {},
   "outputs": [
    {
     "data": {
      "application/vnd.jupyter.widget-view+json": {
       "model_id": "2213b8dd8fb84ec08ccb68eedb87457d",
       "version_major": 2,
       "version_minor": 0
      },
      "text/plain": [
       "interactive(children=(IntSlider(value=0, description='x', max=5, min=-5), Output()), _dom_classes=('widget-int…"
      ]
     },
     "metadata": {},
     "output_type": "display_data"
    },
    {
     "data": {
      "text/plain": [
       "<function __main__.do_something(x)>"
      ]
     },
     "execution_count": 38,
     "metadata": {},
     "output_type": "execute_result"
    }
   ],
   "source": [
    "widgets.interact(do_something,x=(-5,5))"
   ]
  },
  {
   "cell_type": "markdown",
   "metadata": {},
   "source": [
    "# Additional Lab Exercises"
   ]
  },
  {
   "cell_type": "markdown",
   "metadata": {},
   "source": [
    "<b>Exercise:</b> Consider the sum $\\displaystyle p(\\lambda) = \\sum_{n=0}^{10} \\frac{e^{-\\lambda} \\lambda^n}{n!}$, which is the probability of measuring zero to ten counts in a process that has a Poisson distribution with average value of $\\lambda$.  Create a slider that allows for values of $\\lambda$ from 1 to 20 in increments of 0.1 that calculates $p(\\lambda)$.  Test that your function works by calculating $p(\\lambda)$ for at least one value of $\\lambda$ by hand and comparing to your numerical result.  (Note: you will use the factorial function, ``np.math.factorial()`` and the exponential function is given by ``np.exp(-lambda)``.) You should notice if $\\lambda$ is small, the probability should be near 1, and this probability gets smaller as $\\lambda$ gets bigger.  (Please note that ``lambda`` is a command that Python uses, so you cannot use lambda as a variable name.)"
   ]
  },
  {
   "cell_type": "code",
   "execution_count": 47,
   "metadata": {},
   "outputs": [],
   "source": [
    "def p(x):\n",
    "    N =10\n",
    "    probability = 0\n",
    "    for i in range(N+1):\n",
    "        probability = probability + ((np.exp(-x) * (x**i)) / np.math.factorial(i))\n",
    "    return(probability)"
   ]
  },
  {
   "cell_type": "code",
   "execution_count": 49,
   "metadata": {},
   "outputs": [
    {
     "data": {
      "application/vnd.jupyter.widget-view+json": {
       "model_id": "0084ae0ca727494cad1c016ce8a375ca",
       "version_major": 2,
       "version_minor": 0
      },
      "text/plain": [
       "interactive(children=(FloatSlider(value=10.0, description='x', max=20.0, min=1.0), Output()), _dom_classes=('w…"
      ]
     },
     "metadata": {},
     "output_type": "display_data"
    },
    {
     "data": {
      "text/plain": [
       "<function __main__.p(x)>"
      ]
     },
     "execution_count": 49,
     "metadata": {},
     "output_type": "execute_result"
    }
   ],
   "source": [
    "widgets.interact(p,x=(1,20,0.1))"
   ]
  },
  {
   "cell_type": "code",
   "execution_count": null,
   "metadata": {},
   "outputs": [],
   "source": []
  }
 ],
 "metadata": {
  "kernelspec": {
   "display_name": "Python 3 (ipykernel)",
   "language": "python",
   "name": "python3"
  },
  "language_info": {
   "codemirror_mode": {
    "name": "ipython",
    "version": 3
   },
   "file_extension": ".py",
   "mimetype": "text/x-python",
   "name": "python",
   "nbconvert_exporter": "python",
   "pygments_lexer": "ipython3",
   "version": "3.9.7"
  }
 },
 "nbformat": 4,
 "nbformat_minor": 2
}
