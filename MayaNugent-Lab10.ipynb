{
 "cells": [
  {
   "cell_type": "markdown",
   "metadata": {},
   "source": [
    "# First, rename your lab so that it includes your name"
   ]
  },
  {
   "cell_type": "code",
   "execution_count": 1,
   "metadata": {},
   "outputs": [],
   "source": [
    "%matplotlib inline\n",
    "import numpy as np\n",
    "import matplotlib.pyplot as plt\n",
    "import ipywidgets as widgets"
   ]
  },
  {
   "cell_type": "markdown",
   "metadata": {},
   "source": [
    "In mechanics (especially), we want to solve differential equations of the form:\n",
    "$$ \\frac{d \\vec{\\mathbf{x}}}{dt} = \\vec{\\mathbf{F}} (\\vec{\\mathbf{x}}) $$\n",
    "In the previous lab we solved two differential equations:\n",
    "$$ \\frac{d}{dt} \\left( \\begin{array}{c} x \\\\ y \\\\ v_x \\\\ v_y \\end{array} \\right) = \\left( \\begin{array}{c} v_x \\\\ v_y \\\\ 0 \\\\ - 9.8 \\end{array} \\right) \\qquad {\\rm and} \\qquad \\frac{d}{dt} \\left( \\begin{array}{c} x \\\\ y \\\\ v_x \\\\ v_y \\end{array} \\right) = \\left( \\begin{array}{c} v_x \\\\ v_y \\\\ - b v_x \\\\ - 9.8 -  b v_y \\end{array} \\right) $$\n",
    "\n",
    "With this in mind, we can create a function to represent the derivatives (the right-hand-side of the differential equations).  For example, the first one (projectile motion) can be written as a function:"
   ]
  },
  {
   "cell_type": "code",
   "execution_count": 2,
   "metadata": {},
   "outputs": [],
   "source": [
    "def F1(x_in):\n",
    "    x, y, vx, vy = x_in\n",
    "    \n",
    "    derivative = np.zeros(4)\n",
    "    derivative[:] = [vx, vy, 0, -9.8]\n",
    "    return derivative"
   ]
  },
  {
   "cell_type": "markdown",
   "metadata": {},
   "source": [
    "In the last lab, we introduced the **Second Order Runge-Kutta Method** as a way of getting more bang for our computing buck.  A second order Runge-Kutta method (called Heun's method) is:\n",
    "\n",
    "$$ k1_x = v_x \\, \\Delta t \\qquad k1_y = v_y \\, \\Delta t$$\n",
    "$$ k1_{vx} = a_x \\, \\Delta t \\qquad k1_{vy} = a_y \\, \\Delta t$$\n",
    "\n",
    "$$ k2_x = (v_x + k1_{vx}) \\, \\Delta t \\qquad k2_y = (v_y + k1_{vy}) \\, \\Delta t$$\n",
    "$$ k2_{vx} = a_x \\, \\Delta t \\qquad k2_{vy} = a_y \\, \\Delta t$$\n",
    "\n",
    "$$ x_f = x + 0.5 (k1_x + k2_x) \\qquad y_f = y + 0.5 (k1_y + k2_y)$$\n",
    "$$ v_{xf} = v_x + 0.5 (k1_{vx} + k2_{vx}) \\qquad v_{yf} = v_y + 0.5 (k1_{vy} + k2_{vy})$$\n",
    "\n",
    "Here, we're using $a_x = 0$ and $a_y = - 9.8$.  \n",
    "\n",
    "This is a mess, we can actually simplify this with arrays:\n",
    "$$\\vec{\\mathbf{k}}_1 = \\vec{\\mathbf{F}} (\\vec{\\mathbf{x}}) \\, \\Delta t$$\n",
    "$$\\vec{\\mathbf{k}}_2 = \\vec{\\mathbf{F}} (\\vec{\\mathbf{x}} + \\vec{\\mathbf{k}}_1) \\, \\Delta t$$\n",
    "\n",
    "$$\\vec{\\mathbf{x}}_f = \\vec{\\mathbf{x}} + \\tfrac{1}{2} ( \\vec{\\mathbf{k}}_1 + \\vec{\\mathbf{k}}_2 )$$"
   ]
  },
  {
   "cell_type": "code",
   "execution_count": 3,
   "metadata": {},
   "outputs": [],
   "source": [
    "def time_step1(x_in, dt):\n",
    "    k1 = F1(x_in) * dt\n",
    "    k2 = F1(x_in + k1) * dt\n",
    "    \n",
    "    x_final = x_in + 0.5 * (k1 + k2)\n",
    "    return x_final"
   ]
  },
  {
   "cell_type": "markdown",
   "metadata": {},
   "source": [
    "Now we can solve the differential equations as we did before (with initial condition $x = 0,~y = 0,~v_x = 30,~v_y = 40$)."
   ]
  },
  {
   "cell_type": "code",
   "execution_count": 4,
   "metadata": {},
   "outputs": [
    {
     "data": {
      "image/png": "[encoded data removed]",
      "text/plain": [
       "<Figure size 432x288 with 1 Axes>"
      ]
     },
     "metadata": {
      "needs_background": "light"
     },
     "output_type": "display_data"
    }
   ],
   "source": [
    "time = np.linspace(0,8,100)\n",
    "dt = time[1] - time[0]\n",
    "x_step = np.zeros(len(time))\n",
    "y_step = np.zeros(len(time))\n",
    "\n",
    "x = 0\n",
    "y = 0\n",
    "vx = 30\n",
    "vy = 40\n",
    "\n",
    "x_array = np.zeros(4)\n",
    "x_array[:] = [x, y, vx, vy]\n",
    "\n",
    "x_step[0] = x_array[0]\n",
    "y_step[0] = x_array[1]\n",
    "\n",
    "for i in range(1,len(time)):\n",
    "    x_array = time_step1(x_array, dt)\n",
    "    x_step[i] = x_array[0]\n",
    "    y_step[i] = x_array[1]\n",
    "    \n",
    "plt.figure()\n",
    "plt.plot(x_step, y_step)\n",
    "plt.show()"
   ]
  },
  {
   "cell_type": "markdown",
   "metadata": {},
   "source": [
    "This is nice, but it seems doomed to error if we want to change our functions.  It would be useful if we could create a time step function that can change when we change our derivative function (to, for example, deal with different forces in this kinematics example).\n",
    "\n",
    "Fortunately, we can create a function that has a function as an input.  The function below, ``time_step()`` takes three inputs, the third is the name of the function."
   ]
  },
  {
   "cell_type": "code",
   "execution_count": 5,
   "metadata": {},
   "outputs": [],
   "source": [
    "def time_step(x_in, dt, F):\n",
    "    k1 = F(x_in) * dt\n",
    "    k2 = F(x_in + k1) * dt\n",
    "    \n",
    "    x_final = x_in + 0.5 * (k1 + k2)\n",
    "    return x_final"
   ]
  },
  {
   "cell_type": "markdown",
   "metadata": {},
   "source": [
    "Use this ``time_step()`` function to solve the differential equation.  The relevant place you should change things is ``time_step(x_array, dt, F1)``."
   ]
  },
  {
   "cell_type": "code",
   "execution_count": 6,
   "metadata": {},
   "outputs": [
    {
     "data": {
      "image/png": "[encoded data removed]",
      "text/plain": [
       "<Figure size 432x288 with 1 Axes>"
      ]
     },
     "metadata": {
      "needs_background": "light"
     },
     "output_type": "display_data"
    }
   ],
   "source": [
    "time = np.linspace(0,8,100)\n",
    "dt = time[1] - time[0]\n",
    "x_step = np.zeros(len(time))\n",
    "y_step = np.zeros(len(time))\n",
    "\n",
    "x = 0\n",
    "y = 0\n",
    "vx = 30\n",
    "vy = 40\n",
    "\n",
    "x_array = np.zeros(4)\n",
    "x_array[:] = [x, y, vx, vy]\n",
    "\n",
    "x_step[0] = x_array[0]\n",
    "y_step[0] = x_array[1]\n",
    "\n",
    "for i in range(1,len(time)):\n",
    "    x_array = time_step(x_array, dt, F1)\n",
    "    x_step[i] = x_array[0]\n",
    "    y_step[i] = x_array[1]\n",
    "    \n",
    "plt.figure()\n",
    "plt.plot(x_step, y_step)\n",
    "plt.show()"
   ]
  },
  {
   "cell_type": "markdown",
   "metadata": {},
   "source": [
    "We can now solve the problem with air resistance (the differential equation above, on the right using $b = 0.1$).  All we need to solve that problem is to create a new function (like ``F1()``).  Create a new function (please don't call it F1) that represents the derivatives, and use that function along with ``time_step()`` to solve the differential equation."
   ]
  },
  {
   "cell_type": "code",
   "execution_count": 7,
   "metadata": {},
   "outputs": [
    {
     "data": {
      "image/png": "[encoded data removed]",
      "text/plain": [
       "<Figure size 432x288 with 1 Axes>"
      ]
     },
     "metadata": {
      "needs_background": "light"
     },
     "output_type": "display_data"
    }
   ],
   "source": [
    "def air_resistance(x_in):\n",
    "    x, y, vx, vy = x_in\n",
    "    \n",
    "    derivative_air = np.zeros(4)\n",
    "    derivative_air[:] = [vx, vy, -b*vx, -9.8-b*vy]\n",
    "    return derivative_air\n",
    "\n",
    "time = np.linspace(0,8,100)\n",
    "dt = time[1] - time[0]\n",
    "x_step = np.zeros(len(time))\n",
    "y_step = np.zeros(len(time))\n",
    "\n",
    "x = 0\n",
    "y = 0\n",
    "vx = 30\n",
    "vy = 40\n",
    "b = 0.1\n",
    "\n",
    "\n",
    "x_array = np.zeros(4)\n",
    "x_array[:] = [x, y, vx, vy]\n",
    "\n",
    "x_step[0] = x_array[0]\n",
    "y_step[0] = x_array[1]\n",
    "\n",
    "for i in range(1,len(time)):\n",
    "    x_array = time_step(x_array, dt, air_resistance)\n",
    "    x_step[i] = x_array[0]\n",
    "    y_step[i] = x_array[1]\n",
    "    \n",
    "plt.figure()\n",
    "plt.plot(x_step, y_step)\n",
    "plt.show()"
   ]
  },
  {
   "cell_type": "markdown",
   "metadata": {},
   "source": [
    "But if we want to choose a different value for $b$, with this method we need to completely re-run everything.  We should be able to use functions to alleviate this issue.\n",
    "\n",
    "Create a new function that now takes $b$ as an input (rather than setting ``b=0.1`` -- this should not be a part of this new function).  Complete the following:"
   ]
  },
  {
   "cell_type": "code",
   "execution_count": 8,
   "metadata": {},
   "outputs": [],
   "source": [
    "def G(x_in, b):\n",
    "    x, y , vx, vy = x_in\n",
    "    \n",
    "    derivative = np.zeros(4)\n",
    "    derivative [:] = [vx, vy, -b*vx, -9.8-b*vy]\n",
    "    return derivative"
   ]
  },
  {
   "cell_type": "markdown",
   "metadata": {},
   "source": [
    "Now we need to create a time step function that uses $b$ as an input.  Complete the following:\n",
    "\n",
    "𝐤⃗ 1=𝐅⃗ (𝐱⃗ )Δ𝑡\n",
    " \n",
    "𝐤⃗ 2=𝐅⃗ (𝐱⃗ +𝐤⃗ 1)Δ𝑡\n",
    " \n",
    "𝐱⃗ 𝑓=𝐱⃗ +12(𝐤⃗ 1+𝐤⃗ 2)"
   ]
  },
  {
   "cell_type": "code",
   "execution_count": 9,
   "metadata": {},
   "outputs": [],
   "source": [
    "def time_step_b(x_in, dt, F, b):\n",
    "    k1 = F(x_in, b) * dt\n",
    "    k2 = F(x_in + k1, b) * dt\n",
    "    x_final = x_in + 0.5 * (k1 + k2)\n",
    "    return x_final"
   ]
  },
  {
   "cell_type": "markdown",
   "metadata": {},
   "source": [
    "Let's now solve this problem by **first** defining the value of $b$ in code, then making sure to use ``time_step_b`` to solve the differential equation:"
   ]
  },
  {
   "cell_type": "code",
   "execution_count": 10,
   "metadata": {},
   "outputs": [
    {
     "data": {
      "image/png": "[encoded data removed]",
      "text/plain": [
       "<Figure size 432x288 with 1 Axes>"
      ]
     },
     "metadata": {
      "needs_background": "light"
     },
     "output_type": "display_data"
    }
   ],
   "source": [
    "b = 0.1\n",
    "time = np.linspace(0, 8, 100)\n",
    "dt = time[1] - time[0]\n",
    "x_step = np.zeros(len(time))\n",
    "y_step = np.zeros(len(time))\n",
    "\n",
    "x = 0\n",
    "y = 0\n",
    "vx = 30\n",
    "vy = 40\n",
    "\n",
    "x_array = np.zeros(4)\n",
    "x_array [:] = [x, y, vx, vy]\n",
    "\n",
    "x_step[0] = x_array[0]\n",
    "y_step[0] = x_array[1]\n",
    "\n",
    "for i in range(1, len(time)):\n",
    "    x_array = time_step_b(x_array, dt, G, b)\n",
    "    x_step[i] = x_array[0]\n",
    "    y_step[i] = x_array[1]\n",
    "    \n",
    "plt.figure()\n",
    "plt.plot(x_step, y_step, color = \"lightskyblue\")\n",
    "plt.show()"
   ]
  },
  {
   "cell_type": "markdown",
   "metadata": {},
   "source": [
    "Finally, because $b$ is a parameter that we might want to see the results of varying it, let's create a function.  The function has ``b`` as an input, and the function will solve the differential equation and create a plot of the motion.  (Make sure your function doesn't still have ``b=0.1`` in it...)"
   ]
  },
  {
   "cell_type": "code",
   "execution_count": 11,
   "metadata": {},
   "outputs": [],
   "source": [
    "def motion(b):\n",
    "    time = np.linspace(0, 8, 100)\n",
    "    dt = time[1] - time[0]\n",
    "    x_step = np.zeros(len(time))\n",
    "    y_step = np.zeros(len(time))\n",
    "\n",
    "    x = 0\n",
    "    y = 0\n",
    "    vx = 30\n",
    "    vy = 40\n",
    "\n",
    "    x_array = np.zeros(4)\n",
    "    x_array [:] = [x, y, vx, vy]\n",
    "\n",
    "    x_step[0] = x_array[0]\n",
    "    y_step[0] = x_array[1]\n",
    "\n",
    "    for i in range(1, len(time)):\n",
    "        x_array = time_step_b(x_array, dt, G, b)\n",
    "        x_step[i] = x_array[0]\n",
    "        y_step[i] = x_array[1]\n",
    "        \n",
    "    plt.figure()\n",
    "    plt.plot(x_step, y_step, color = \"lightskyblue\")\n",
    "    plt.show()"
   ]
  },
  {
   "cell_type": "markdown",
   "metadata": {},
   "source": [
    "Try it out for a variety of values of $b$."
   ]
  },
  {
   "cell_type": "code",
   "execution_count": 12,
   "metadata": {},
   "outputs": [
    {
     "data": {
      "image/png": "[encoded data removed]",
      "text/plain": [
       "<Figure size 432x288 with 1 Axes>"
      ]
     },
     "metadata": {
      "needs_background": "light"
     },
     "output_type": "display_data"
    }
   ],
   "source": [
    "motion(3)"
   ]
  },
  {
   "cell_type": "markdown",
   "metadata": {},
   "source": [
    "The problem is that ``plt.plot()`` automatically scales to the arrays it is plotting and it's hard to compare.  The maximum for the no-air-resistance case is just greater than 80 m, so if we keep a fixed y-axis scale, then we can see the affects of increasing air resistance.  Include the command ``plt.ylim(0,85)`` to make sure that we keep a fixed y-axis scale.  Then, try again for different values of $b$."
   ]
  },
  {
   "cell_type": "code",
   "execution_count": 13,
   "metadata": {},
   "outputs": [],
   "source": [
    "def motion(b):\n",
    "    time = np.linspace(0, 8, 100)\n",
    "    dt = time[1] - time[0]\n",
    "    x_step = np.zeros(len(time))\n",
    "    y_step = np.zeros(len(time))\n",
    "\n",
    "    x = 0\n",
    "    y = 0\n",
    "    vx = 30\n",
    "    vy = 40\n",
    "\n",
    "    x_array = np.zeros(4)\n",
    "    x_array [:] = [x, y, vx, vy]\n",
    "\n",
    "    x_step[0] = x_array[0]\n",
    "    y_step[0] = x_array[1]\n",
    "\n",
    "    for i in range(1, len(time)):\n",
    "        x_array = time_step_b(x_array, dt, G, b)\n",
    "        x_step[i] = x_array[0]\n",
    "        y_step[i] = x_array[1]\n",
    "        \n",
    "    plt.figure()\n",
    "    plt.plot(x_step, y_step, color = \"lightskyblue\")\n",
    "    plt.ylim(0,85)\n",
    "    plt.show()"
   ]
  },
  {
   "cell_type": "code",
   "execution_count": 14,
   "metadata": {
    "scrolled": true
   },
   "outputs": [
    {
     "data": {
      "image/png": "[encoded data removed]",
      "text/plain": [
       "<Figure size 432x288 with 1 Axes>"
      ]
     },
     "metadata": {
      "needs_background": "light"
     },
     "output_type": "display_data"
    }
   ],
   "source": [
    "motion(0.25)"
   ]
  },
  {
   "cell_type": "markdown",
   "metadata": {},
   "source": [
    "Finally, we can make a slider.  Make a slider to see the effects of varying $b$. (Hint:  ``widgets.interact(__, b=(__,__,__)``)"
   ]
  },
  {
   "cell_type": "code",
   "execution_count": 15,
   "metadata": {},
   "outputs": [
    {
     "data": {
      "application/vnd.jupyter.widget-view+json": {
       "model_id": "b71e7f080a6940e6b1e1c5b17f0c2b0b",
       "version_major": 2,
       "version_minor": 0
      },
      "text/plain": [
       "interactive(children=(FloatSlider(value=2.0, description='b', max=5.0), Output()), _dom_classes=('widget-inter…"
      ]
     },
     "metadata": {},
     "output_type": "display_data"
    },
    {
     "data": {
      "text/plain": [
       "<function __main__.motion(b)>"
      ]
     },
     "execution_count": 15,
     "metadata": {},
     "output_type": "execute_result"
    }
   ],
   "source": [
    "widgets.interact(motion, b=(0,5,0.1))"
   ]
  },
  {
   "cell_type": "code",
   "execution_count": null,
   "metadata": {},
   "outputs": [],
   "source": []
  }
 ],
 "metadata": {
  "kernelspec": {
   "display_name": "Python 3 (ipykernel)",
   "language": "python",
   "name": "python3"
  },
  "language_info": {
   "codemirror_mode": {
    "name": "ipython",
    "version": 3
   },
   "file_extension": ".py",
   "mimetype": "text/x-python",
   "name": "python",
   "nbconvert_exporter": "python",
   "pygments_lexer": "ipython3",
   "version": "3.9.7"
  }
 },
 "nbformat": 4,
 "nbformat_minor": 2
}
