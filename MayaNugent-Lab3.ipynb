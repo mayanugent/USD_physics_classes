{
 "cells": [
  {
   "cell_type": "markdown",
   "metadata": {},
   "source": [
    "# Complex Numbers and Interference Phenomena"
   ]
  },
  {
   "cell_type": "code",
   "execution_count": 1,
   "metadata": {},
   "outputs": [],
   "source": [
    "%matplotlib inline\n",
    "import numpy as np\n",
    "import matplotlib.pyplot as plt\n",
    "import ipywidgets as widgets"
   ]
  },
  {
   "cell_type": "markdown",
   "metadata": {},
   "source": [
    "## Brief Review from Lab 2\n",
    "\n",
    "**Plotting Functions**"
   ]
  },
  {
   "cell_type": "markdown",
   "metadata": {},
   "source": [
    "## STOP:  Double click this text area and type your answer to the following question:\n",
    "\n",
    "**(1)** Look at the code immediate below.  What will the code below do.  Be as specific as possible.\n",
    "The function will square the input, x, and multiply it by 3.\n",
    "\n",
    "The code will create a graph with axes (x-value, y-value). There will be 6 x values from -1 to 5. Y will be calculated using the function (the for loop calculates y at each value of x)\n",
    "\n"
   ]
  },
  {
   "cell_type": "code",
   "execution_count": 2,
   "metadata": {},
   "outputs": [
    {
     "data": {
      "image/png": "[encoded data removed]",
      "text/plain": [
       "<Figure size 432x288 with 1 Axes>"
      ]
     },
     "metadata": {
      "needs_background": "light"
     },
     "output_type": "display_data"
    }
   ],
   "source": [
    "def plot_me(x):\n",
    "    return (3 * x**2)\n",
    "\n",
    "x_axis = np.linspace(-1,5,6)\n",
    "y_axis = np.zeros(len(x_axis))\n",
    "for i in range(len(x_axis)):\n",
    "    y_axis[i] = plot_me(x_axis[i])\n",
    "    \n",
    "plt.figure()\n",
    "plt.plot(x_axis,y_axis)\n",
    "plt.xlabel(\"x-value\")\n",
    "plt.ylabel(\"y-value\")\n",
    "plt.show()"
   ]
  },
  {
   "cell_type": "markdown",
   "metadata": {},
   "source": [
    "In the code block below, create code that will create a graph that is:\n",
    "- smooth (not jagged like the previous plot)\n",
    "- a plot for x = 0 to x = 3\n",
    "- plotting the function $-4.9 x^2$\n",
    "- label \"time\" on the x-axis and \"displacement\" on the y-axis."
   ]
  },
  {
   "cell_type": "code",
   "execution_count": 3,
   "metadata": {},
   "outputs": [
    {
     "data": {
      "image/png": "[encoded data removed]",
      "text/plain": [
       "<Figure size 432x288 with 1 Axes>"
      ]
     },
     "metadata": {
      "needs_background": "light"
     },
     "output_type": "display_data"
    }
   ],
   "source": [
    "def smooth_plot(x):\n",
    "    return (-4.9 * x**2)\n",
    "\n",
    "t = np.linspace(0,3,50)\n",
    "x = np.zeros(len(t))\n",
    "for i in range(len(t)):\n",
    "    x[i] = smooth_plot(t[i])\n",
    "    \n",
    "plt.figure()\n",
    "plt.plot(t,x)\n",
    "plt.xlabel(\"time\")\n",
    "plt.ylabel(\"displacement\")\n",
    "plt.show()"
   ]
  },
  {
   "cell_type": "markdown",
   "metadata": {},
   "source": [
    "# Sliders and animations\n",
    "\n",
    "We created traveling waves, and were able to use a slider to \"animate\" them,\n",
    "$$w (x,t) = \\sin (2 \\pi x - \\pi t)$$\n",
    "Run the following code and confirm the wave travels to the right."
   ]
  },
  {
   "cell_type": "code",
   "execution_count": 4,
   "metadata": {},
   "outputs": [
    {
     "data": {
      "application/vnd.jupyter.widget-view+json": {
       "model_id": "b969227d5e914b2298cf226f1de43440",
       "version_major": 2,
       "version_minor": 0
      },
      "text/plain": [
       "interactive(children=(FloatSlider(value=10.0, description='t', max=20.0), Output()), _dom_classes=('widget-int…"
      ]
     },
     "metadata": {},
     "output_type": "display_data"
    },
    {
     "data": {
      "text/plain": [
       "<function __main__.plot_wave(t)>"
      ]
     },
     "execution_count": 4,
     "metadata": {},
     "output_type": "execute_result"
    }
   ],
   "source": [
    "def w_right(x, t):\n",
    "    return np.sin(2*np.pi*x - np.pi*t)\n",
    "\n",
    "def plot_wave(t):\n",
    "    x = np.linspace(0,2,500)\n",
    "    y = np.zeros(len(x))\n",
    "    \n",
    "    for i in range(len(x)):\n",
    "        y[i] = w_right(x[i], t)\n",
    "        \n",
    "    plt.figure()\n",
    "    plt.plot(x, y)\n",
    "    plt.show()\n",
    "    \n",
    "widgets.interact(plot_wave, t=(0,20,0.1))"
   ]
  },
  {
   "cell_type": "markdown",
   "metadata": {},
   "source": [
    "# Complex Numbers\n",
    "\n",
    "In Python, $i = \\sqrt{-1}$ is written as ``1j``.  (It should be noted that any number can precede ``j``, but a number is necessary, otherwise, Python will treat it as a variable.  We can use it with an exponential, just like any other exponential, for example, $z = e^{i \\pi}$."
   ]
  },
  {
   "cell_type": "code",
   "execution_count": 5,
   "metadata": {},
   "outputs": [
    {
     "name": "stdout",
     "output_type": "stream",
     "text": [
      "(-1+1.2246467991473532e-16j)\n"
     ]
    }
   ],
   "source": [
    "z = np.exp(1j * np.pi)\n",
    "print(z)"
   ]
  },
  {
   "cell_type": "markdown",
   "metadata": {},
   "source": [
    "What is going on here?  We begin with Euler's formula,\n",
    "$$e^{i x} = \\cos x + i \\sin x .$$"
   ]
  },
  {
   "cell_type": "markdown",
   "metadata": {},
   "source": [
    "## STOP:  Double click this text area and type your answer to the following question:\n",
    "**(2)** Using Euler's formula, what do we expect for the value for $e^{i \\pi}$?  Why isn't our answer exactly that?  Check your answer with the instructor, or have a discussion if you're completely unsure.\n",
    "\n",
    "The answer should have been -1 because cos(pi) = -1 and sin(pi) = 0. Our answer isn't exactly -1 because python attempts to calculate all sin(pi) but can get to 10E-16 because that is very, very close to zero.\n"
   ]
  },
  {
   "cell_type": "markdown",
   "metadata": {},
   "source": [
    "Can we plot this?  Run the following code:"
   ]
  },
  {
   "cell_type": "code",
   "execution_count": 6,
   "metadata": {},
   "outputs": [
    {
     "name": "stderr",
     "output_type": "stream",
     "text": [
      "C:\\Users\\mayan\\AppData\\Local\\Temp/ipykernel_11384/902931747.py:8: ComplexWarning: Casting complex values to real discards the imaginary part\n",
      "  ce[i] = complex_exponential(phi[i])\n"
     ]
    },
    {
     "data": {
      "image/png": "[encoded data removed]",
      "text/plain": [
       "<Figure size 432x288 with 1 Axes>"
      ]
     },
     "metadata": {
      "needs_background": "light"
     },
     "output_type": "display_data"
    }
   ],
   "source": [
    "def complex_exponential(z):\n",
    "    return np.exp(1j * z)\n",
    "\n",
    "phi = np.linspace(0, 2*np.pi, 100)\n",
    "ce = np.zeros(len(phi))\n",
    "\n",
    "for i in range(len(phi)):\n",
    "    ce[i] = complex_exponential(phi[i])\n",
    "    \n",
    "plt.figure()\n",
    "plt.plot(phi,ce)\n",
    "plt.show()"
   ]
  },
  {
   "cell_type": "markdown",
   "metadata": {},
   "source": [
    "Take a moment to notice the warning.  When trying to plot complex numbers, Python only plots the real part.\n",
    "\n",
    "There are two parts to a complex number, its real and imaginary parts.  Run the following code:"
   ]
  },
  {
   "cell_type": "code",
   "execution_count": 7,
   "metadata": {},
   "outputs": [
    {
     "name": "stdout",
     "output_type": "stream",
     "text": [
      "-1.0\n",
      "1.2246467991473532e-16\n"
     ]
    }
   ],
   "source": [
    "print(np.real(z))\n",
    "print(np.imag(z))"
   ]
  },
  {
   "cell_type": "markdown",
   "metadata": {},
   "source": [
    "## STOP:  Double click this text area and type your answer to the following question:\n",
    "**(3)** What does ``np.real(z)`` and ``np.imag(z)`` do?\n",
    "\n",
    "it determines the real value of z and the imaginary value of z from Euhler's equation above\n",
    "\n"
   ]
  },
  {
   "cell_type": "markdown",
   "metadata": {},
   "source": [
    "## STOP:  Double click this text area and type your answer to the following question:\n",
    "\n",
    "**(4)** Consider the function `fun(x)` as defined below.  What does it do?  What are three possible inputs where you can predict the output?  After you answer these questions in the space below, use the empty code box to print your three predictions to test them out.\n",
    "\n",
    "The function calculates the imaginary part of e^ix for whatver values of x we pick. It prints out cosx + isinx. \n",
    "Predictions:\n",
    "(0,0)\n",
    "(pi/2, 1j)\n",
    "(pi/4, sin(45)j)\n"
   ]
  },
  {
   "cell_type": "code",
   "execution_count": 8,
   "metadata": {},
   "outputs": [],
   "source": [
    "def fun(x):\n",
    "    return np.imag( np.exp(1j * x) )"
   ]
  },
  {
   "cell_type": "code",
   "execution_count": 9,
   "metadata": {},
   "outputs": [
    {
     "name": "stdout",
     "output_type": "stream",
     "text": [
      "0.0\n",
      "1.0\n",
      "0.7071067811865476\n"
     ]
    }
   ],
   "source": [
    "print(fun(0))\n",
    "print(fun(np.pi/2))\n",
    "print(fun(np.pi/4))"
   ]
  },
  {
   "cell_type": "markdown",
   "metadata": {},
   "source": [
    "We tested this function against our predictions for a few points, but how do we know that the functions are the same?  Say we have two functions:\n",
    "$\\displaystyle f(x) = (x + x)^2 \\qquad g(x) = 4 x^2$\n",
    "\n",
    "How do we know these functions are the same?  \n",
    "- We can test a few points:  $f(0) = g(0) = 0$, $f(1) = g(1) = 4$, $f(2) = g(2) = 16$.\n",
    "- But, we can also plot functions, for example, plot $f(x)$ and $g(x)$ on the same plot.\n",
    "- Better yet, since it's hard to tell if the two curves are exactly the same or not, we can plot $f(x) - g(x)$, and see how close to zero it is."
   ]
  },
  {
   "cell_type": "code",
   "execution_count": 10,
   "metadata": {
    "scrolled": false
   },
   "outputs": [
    {
     "name": "stdout",
     "output_type": "stream",
     "text": [
      "0 0\n",
      "4 4\n",
      "16 16\n"
     ]
    },
    {
     "data": {
      "image/png": "[encoded data removed]",
      "text/plain": [
       "<Figure size 432x288 with 1 Axes>"
      ]
     },
     "metadata": {
      "needs_background": "light"
     },
     "output_type": "display_data"
    },
    {
     "data": {
      "image/png": "[encoded data removed]",
      "text/plain": [
       "<Figure size 432x288 with 1 Axes>"
      ]
     },
     "metadata": {
      "needs_background": "light"
     },
     "output_type": "display_data"
    }
   ],
   "source": [
    "def f(x):\n",
    "    return (x+x)**2\n",
    "def g(x):\n",
    "    return 4 * x**2\n",
    "\n",
    "print(f(0), g(0))\n",
    "print(f(1), g(1))\n",
    "print(f(2), g(2))\n",
    "\n",
    "x = np.linspace(0,10,100)\n",
    "f_plot = np.zeros(len(x))\n",
    "g_plot = np.zeros(len(x))\n",
    "f_minus_g = np.zeros(len(x))\n",
    "for i in range(len(x)):\n",
    "    f_plot[i] = f(x[i])\n",
    "    g_plot[i] = g(x[i])\n",
    "    f_minus_g[i] = f(x[i]) - g(x[i])\n",
    "    \n",
    "plt.figure()\n",
    "plt.plot(x, f_plot)\n",
    "plt.plot(x, g_plot,linestyle='--')\n",
    "plt.figure()\n",
    "plt.plot(x, f_minus_g)\n",
    "plt.show()"
   ]
  },
  {
   "cell_type": "markdown",
   "metadata": {},
   "source": [
    "For ``fun(x)``, identify a real function you identified as being equivalent to ``fun``, then graph both functions on the same plot to see if the two functions are similar, then plot their difference to show that they are the same (at least to computational precision)."
   ]
  },
  {
   "cell_type": "code",
   "execution_count": 11,
   "metadata": {},
   "outputs": [
    {
     "name": "stdout",
     "output_type": "stream",
     "text": [
      "0.0 0.0\n",
      "1.0 1.0\n",
      "0.7071067811865476 0.7071067811865476\n"
     ]
    },
    {
     "data": {
      "image/png": "[encoded data removed]",
      "text/plain": [
       "<Figure size 432x288 with 1 Axes>"
      ]
     },
     "metadata": {
      "needs_background": "light"
     },
     "output_type": "display_data"
    },
    {
     "data": {
      "image/png": "[encoded data removed]",
      "text/plain": [
       "<Figure size 432x288 with 1 Axes>"
      ]
     },
     "metadata": {
      "needs_background": "light"
     },
     "output_type": "display_data"
    }
   ],
   "source": [
    "def sin(x):\n",
    "    return(np.sin(x))\n",
    "\n",
    "print(fun(0), sin(0))\n",
    "print(fun(np.pi/2), sin(np.pi/2))\n",
    "print(fun(np.pi/4), sin(np.pi/4))\n",
    "\n",
    "x = np.linspace(0,10,100)\n",
    "function = np.zeros(len(x))\n",
    "sin_x = np.zeros(len(x))\n",
    "f_minus_sin = np.zeros(len(x))\n",
    "\n",
    "for i in range(len(x)):\n",
    "    function[i] = fun(x[i])\n",
    "    sin_x[i] = sin(x[i])\n",
    "    f_minus_sin[i] = fun(x[i]) - sin(x[i])\n",
    "    \n",
    "plt.figure()\n",
    "plt.plot(x, function,color='lightskyblue')\n",
    "plt.plot(x,sin_x,color='deeppink',linestyle='--')\n",
    "\n",
    "plt.figure()\n",
    "plt.plot(x, f_minus_sin)\n",
    "plt.show()"
   ]
  },
  {
   "cell_type": "markdown",
   "metadata": {},
   "source": [
    "The cell below is an exact copy of the rightward moving wave above.  Change the function ``w_right(x,t)`` to be written in terms of the imaginary part of complex exponentials (and not sine).  Make sure the resulting traveling wave is correct (i.e., unchanged)."
   ]
  },
  {
   "cell_type": "code",
   "execution_count": 12,
   "metadata": {},
   "outputs": [
    {
     "data": {
      "application/vnd.jupyter.widget-view+json": {
       "model_id": "74089604795e4df1846e011dc3763fd4",
       "version_major": 2,
       "version_minor": 0
      },
      "text/plain": [
       "interactive(children=(FloatSlider(value=10.0, description='t', max=20.0), Output()), _dom_classes=('widget-int…"
      ]
     },
     "metadata": {},
     "output_type": "display_data"
    },
    {
     "data": {
      "text/plain": [
       "<function __main__.plot_wave(t)>"
      ]
     },
     "execution_count": 12,
     "metadata": {},
     "output_type": "execute_result"
    }
   ],
   "source": [
    "def w_right(x, t):\n",
    "    return np.imag(np.exp(1J * (2*np.pi*x - np.pi*t)))\n",
    "\n",
    "def plot_wave(t):\n",
    "    x = np.linspace(0,2,500)\n",
    "    y = np.zeros(len(x))\n",
    "    \n",
    "    for i in range(len(x)):\n",
    "        y[i] = w_right(x[i], t)\n",
    "        \n",
    "    plt.figure()\n",
    "    plt.plot(x, y)\n",
    "    plt.show()\n",
    "    \n",
    "widgets.interact(plot_wave, t=(0,20,0.1))"
   ]
  },
  {
   "cell_type": "markdown",
   "metadata": {},
   "source": [
    "One more useful thing is the absolute value squared of a complex number.  Consider the function below.  Plot the function from $x = 0$ to $2 \\pi$.  What do you notice about the result?"
   ]
  },
  {
   "cell_type": "code",
   "execution_count": 13,
   "metadata": {},
   "outputs": [],
   "source": [
    "def absolute_value_squared(x):\n",
    "    return (np.abs( complex_exponential(x) ))**2"
   ]
  },
  {
   "cell_type": "code",
   "execution_count": 14,
   "metadata": {},
   "outputs": [
    {
     "data": {
      "image/png": "[encoded data removed]",
      "text/plain": [
       "<Figure size 432x288 with 1 Axes>"
      ]
     },
     "metadata": {
      "needs_background": "light"
     },
     "output_type": "display_data"
    }
   ],
   "source": [
    "x = np.linspace(0,2*np.pi,100)\n",
    "absolute_value = np.zeros(len(x))\n",
    "\n",
    "for i in range(len(x)):\n",
    "    absolute_value[i] = absolute_value_squared(x[i])\n",
    "\n",
    "plt.figure()\n",
    "plt.plot(x, absolute_value)\n",
    "plt.show()"
   ]
  },
  {
   "cell_type": "markdown",
   "metadata": {},
   "source": [
    "One can think of the absolute value squared of $e^{ix} = \\cos x + i \\sin x$ as the sum of the real part squared and the imaginary part squared.  Almost akin to a Pythagorean theorem.  Does your result make sense? "
   ]
  },
  {
   "cell_type": "code",
   "execution_count": null,
   "metadata": {},
   "outputs": [],
   "source": []
  },
  {
   "cell_type": "markdown",
   "metadata": {},
   "source": [
    "# Superposition and Interference\n",
    "\n",
    "If multiple electromagnetic waves are in the same location with the same frequency, they can add and produce interesting phenomena.\n",
    "\n",
    "One example is standing waves, in e.g., a microwave oven.  Let's consider a microwave oven, operating with frequency 2.45 GHz, wavelength 12.2 cm, and width 30.5 cm.  Let's write the electric field as the superposition of a right-moving and left-moving wave,\n",
    "$$E(x,t) = \\sin(k x - \\omega t) + \\sin(kx + \\omega t),$$\n",
    "with $k = 2 \\pi / \\lambda = 2 \\pi / 12.2$, $\\omega = 2 \\pi f = 2 \\pi (2.45)$, which uses units of cm for position and ns for time.\n",
    "\n",
    "In the cell below, create a slider to make an animation of the wave.  You are strongly encouraged to re-purpose the code above to do this.  In doing so, there should be the following changes:\n",
    "- Of course, a new function\n",
    "- Label the x-axis as \"x (cm)\", and the y-axis as \"Electric field\"\n",
    "- Plot the x-values from x = 0 to x = 30.5 (make sure there's enough points to ensure a smooth graph)\n",
    "- Include the statement ``plt.ylim(-2.5,2.5)`` so the y-axis doesn't change its scale as the wave evolves.\n",
    "- In the slider, use the interval ``t = (0, 5, 0.01)``"
   ]
  },
  {
   "cell_type": "code",
   "execution_count": 15,
   "metadata": {},
   "outputs": [
    {
     "data": {
      "application/vnd.jupyter.widget-view+json": {
       "model_id": "418432c505fd4d57b7d8439e6ea63d34",
       "version_major": 2,
       "version_minor": 0
      },
      "text/plain": [
       "interactive(children=(FloatSlider(value=2.0, description='t', max=5.0, step=0.01), Output()), _dom_classes=('w…"
      ]
     },
     "metadata": {},
     "output_type": "display_data"
    },
    {
     "data": {
      "text/plain": [
       "<function __main__.plot_field(t)>"
      ]
     },
     "execution_count": 15,
     "metadata": {},
     "output_type": "execute_result"
    }
   ],
   "source": [
    "def electric_field(x, t, k, w):\n",
    "    return np.sin(k*x - x*t) + np.sin(k*x + w*t)\n",
    "\n",
    "def plot_field(t):\n",
    "    distance = np.linspace(0,30.5,500)\n",
    "    field = np.zeros(len(distance))\n",
    "    \n",
    "    for i in range(len(distance)):\n",
    "        field[i] = electric_field(distance[i], t, 2*np.pi/12.2, 2*np.pi*2.45)\n",
    "        \n",
    "    plt.figure()\n",
    "    plt.plot(distance, field)\n",
    "    plt.ylim(-2.5,2.5)\n",
    "    plt.show()\n",
    "    \n",
    "widgets.interact(plot_field, t=(0,5,0.01))"
   ]
  },
  {
   "cell_type": "markdown",
   "metadata": {},
   "source": [
    "The intensity of the wave is proportional to the electric field squared, so create a new slider to animate\n",
    "$$I (x,t) = \\big[ \\sin(k x - \\omega t) + \\sin(kx + \\omega t) \\big]^2,$$\n",
    "Here, label the y-axis \"Intensity\" and choose an appropriate ``plt.ylim( , )`` statement so you can see the entirety of the result in your animation."
   ]
  },
  {
   "cell_type": "code",
   "execution_count": 16,
   "metadata": {},
   "outputs": [
    {
     "data": {
      "application/vnd.jupyter.widget-view+json": {
       "model_id": "6cb163a9dcec42058d01be13ba185e73",
       "version_major": 2,
       "version_minor": 0
      },
      "text/plain": [
       "interactive(children=(FloatSlider(value=2.0, description='t', max=5.0, step=0.01), Output()), _dom_classes=('w…"
      ]
     },
     "metadata": {},
     "output_type": "display_data"
    },
    {
     "data": {
      "text/plain": [
       "<function __main__.plot_intensity(t)>"
      ]
     },
     "execution_count": 16,
     "metadata": {},
     "output_type": "execute_result"
    }
   ],
   "source": [
    "def intensity(x,k,w,t):\n",
    "    return (np.sin(k*x - x*t) + np.sin(k*x + w*t))**2\n",
    "\n",
    "def plot_intensity(t):\n",
    "    distance = np.linspace(0,30.5,500)\n",
    "    field_squared = np.zeros(len(distance))\n",
    "    \n",
    "    for i in range(len(distance)):\n",
    "        field_squared[i] = intensity(distance[i], 2*np.pi/12.2, 2*np.pi*2.45, t)\n",
    "        \n",
    "    plt.figure()\n",
    "    plt.plot(distance, field_squared)\n",
    "    plt.ylim(-1,5)\n",
    "    plt.ylabel(\"intensity\")\n",
    "    plt.show()\n",
    "    \n",
    "widgets.interact(plot_intensity, t=(0,5,0.01))"
   ]
  },
  {
   "cell_type": "markdown",
   "metadata": {},
   "source": [
    "Since the oscillations of the standing wave occur on time scales of nanoseconds, it can be useful to define the time-averaged intensity, really just the average of what we saw in our previous animation.  You can notice by eye that there are nodes, locations where the intensity is always zero, and anti-nodes, locations where the intensity is maximal.\n",
    "\n",
    "To create the time-averaged intensity, it can be useful to use complex numbers to represent the wave.  Start by representing the electric field as the **imaginary part** of\n",
    "$$\\tilde{E} (x,t) = e^{i (kx - \\omega t)} + e^{i (-kx + \\pi - \\omega t)}.$$\n",
    "That may seem to be an awkward way to represent it, but it is mathematically useful when both parts of the superposition are proportional to $e^{-i \\omega t}$.\n",
    "\n",
    "Create a slider using this new function that involves complex exponentials to confirm that you get the same results as before."
   ]
  },
  {
   "cell_type": "code",
   "execution_count": 17,
   "metadata": {},
   "outputs": [
    {
     "data": {
      "application/vnd.jupyter.widget-view+json": {
       "model_id": "86cbd7c6d44e41c0a504a2ae7ff44875",
       "version_major": 2,
       "version_minor": 0
      },
      "text/plain": [
       "interactive(children=(FloatSlider(value=2.0, description='t', max=5.0, step=0.01), Output()), _dom_classes=('w…"
      ]
     },
     "metadata": {},
     "output_type": "display_data"
    },
    {
     "data": {
      "text/plain": [
       "<function __main__.plot_e_field(t)>"
      ]
     },
     "execution_count": 17,
     "metadata": {},
     "output_type": "execute_result"
    }
   ],
   "source": [
    "def e_field(x,k,w,t):\n",
    "    return np.imag(np.exp(1j*(k*x-w*t))+np.exp(1j*(-k*x+np.pi-w*t)))\n",
    "\n",
    "def plot_e_field(t):\n",
    "    x = np.linspace(0,30.5,500)\n",
    "    imag_e_field = np.zeros(len(x))\n",
    "    \n",
    "    for i in range(len(x)):\n",
    "        imag_e_field[i] = intensity(x[i], 2*np.pi/12.2, 2*np.pi*2.45,t)\n",
    "        \n",
    "    plt.figure()\n",
    "    plt.plot(x, imag_e_field)\n",
    "    plt.ylim(-1,5)\n",
    "    plt.ylabel(\"intensity\")\n",
    "    plt.show()\n",
    "    \n",
    "widgets.interact(plot_e_field, t=(0,5,0.01))"
   ]
  },
  {
   "cell_type": "markdown",
   "metadata": {},
   "source": [
    "Using this result, it can be shown that the time-averaged intensity is proportional to:\n",
    "$$I (x) = \\tfrac{1}{2}\\big\\vert\\, e^{i k x} + e^{i (-k x + \\pi)} \\,\\big\\vert^2$$\n",
    "This is the absolute value squared of the complex number (excluding the $e^{-i \\omega t}$).  Notice that the result is independent of time, so we can just make a regular plot (without the slider).  Create a plot of the time-averaged intensity."
   ]
  },
  {
   "cell_type": "code",
   "execution_count": 18,
   "metadata": {},
   "outputs": [],
   "source": [
    "def time_avg_intensity(x,k):\n",
    "    return 0.5 * np.abs(np.exp(1j*k*x) + np.exp(1j*(-k*x+np.pi)))**2\n",
    "\n",
    "def plot_avg_intensity():\n",
    "    x = np.linspace(0,30.5,500)\n",
    "    averaged_intensity = np.zeros(len(x))\n",
    "\n",
    "    for i in range(len(x)):\n",
    "        averaged_intensity[i] = time_avg_intensity(x[i], 2*np.pi/12.2)\n",
    "\n",
    "    plt.figure()\n",
    "    plt.plot(x, averaged_intensity)\n",
    "    plt.ylim(-1,5)\n",
    "    plt.ylabel(\"time_averaged_intensity\")\n",
    "    plt.show()\n",
    "\n"
   ]
  },
  {
   "cell_type": "code",
   "execution_count": 19,
   "metadata": {},
   "outputs": [
    {
     "data": {
      "image/png": "[encoded data removed]",
      "text/plain": [
       "<Figure size 432x288 with 1 Axes>"
      ]
     },
     "metadata": {
      "needs_background": "light"
     },
     "output_type": "display_data"
    }
   ],
   "source": [
    "plot_avg_intensity()"
   ]
  },
  {
   "cell_type": "code",
   "execution_count": null,
   "metadata": {},
   "outputs": [],
   "source": []
  }
 ],
 "metadata": {
  "kernelspec": {
   "display_name": "Python 3 (ipykernel)",
   "language": "python",
   "name": "python3"
  },
  "language_info": {
   "codemirror_mode": {
    "name": "ipython",
    "version": 3
   },
   "file_extension": ".py",
   "mimetype": "text/x-python",
   "name": "python",
   "nbconvert_exporter": "python",
   "pygments_lexer": "ipython3",
   "version": "3.9.7"
  }
 },
 "nbformat": 4,
 "nbformat_minor": 2
}
