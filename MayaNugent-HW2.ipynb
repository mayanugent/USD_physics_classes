{
 "cells": [
  {
   "cell_type": "markdown",
   "metadata": {},
   "source": [
    "# Homework 2 (due Mon, February 15)\n",
    "\n",
    "**Step 1** Rename the file (Click on HW2 next to the jupyter logo) to include your name.\n",
    "\n",
    "## Purpose: \n",
    "- To use create a plot and animate it using a slider.\n",
    "- To write readable code by appropriate choices of variable and function names.\n",
    "\n",
    "## Grading:\n",
    "Your homework should be submitted by email.  \n",
    "To receive credit for your homework submission, your jupyter notebook must meet the following requirements.  Those that do not will receive zero credit.\n",
    "- The file name has been renamed with your name.\n",
    "- Your entire submission runs correctly when run sequentially.  You can test this (and you are **strongly encouraged** to do so) by using the option: Kernel > \"Restart and Run All\".  Make sure that all the outputs are exactly as you expect.  This is what I will be doing.\n",
    "- Your submission **is not** identical to someone else's homework submission.  It is acceptable (and maybe even encouraged) to work with others on your homework, but the final result must be your own work.  The best suggestion to avoid identical code?  Do not use copy-and-paste with others' solutions.\n",
    "- Your variables and function names are descriptive (very loosely defined).  \n",
    "\n",
    "\n",
    "Your homework should be turned in by email and should be completely self-contained.  This means that your homework should be written in a proper order such that when all programming cells are run sequentially, the desired results occur.  (Test this out before you submit:  Use the Kernel Menu, then choose \"Restart and Run All\".)"
   ]
  },
  {
   "cell_type": "code",
   "execution_count": 1,
   "metadata": {},
   "outputs": [],
   "source": [
    "import numpy as np\n",
    "import matplotlib.pyplot as plt\n",
    "import ipywidgets as widgets"
   ]
  },
  {
   "cell_type": "markdown",
   "metadata": {},
   "source": [
    "**Exercise:**  Download and place in your working folder the file ``HW2.csv``, which has three columns: (0) is time (in seconds); (1) is position (in meters); (2) is velocity (in meters per second) for a projectile falling under the influence of gravity and air resistance.  \n",
    "\n",
    "- Create a plot of velocity versus time\n",
    "- Include axis labels for the x- and y-axes\n",
    "- Choose a color for the curve on the plot\n",
    "- Choose a marker for the data points by adding an additional statement: ``plt.plot(.., .., color='..', marker='..')``.  If you search for \"matplotlib marker\", you can find options\n",
    "- Choose a line style for the graph with ``linestyle = '..'``\n",
    "\n",
    "(Please note that all the ``..`` above should be replaced by appropriate arrays and/or options.)"
   ]
  },
  {
   "cell_type": "code",
   "execution_count": 2,
   "metadata": {},
   "outputs": [
    {
     "data": {
      "image/png": "[encoded data removed]",
      "text/plain": [
       "<Figure size 432x288 with 1 Axes>"
      ]
     },
     "metadata": {
      "needs_background": "light"
     },
     "output_type": "display_data"
    }
   ],
   "source": [
    "time, position, velocity = np.loadtxt('HW2.csv',delimiter=',',usecols=(0,1,2),unpack=True)\n",
    "\n",
    "plt.figure()\n",
    "plt.plot(time, velocity, color=\"deeppink\", marker=\"*\", linestyle=\":\")\n",
    "plt.show()"
   ]
  },
  {
   "cell_type": "markdown",
   "metadata": {},
   "source": [
    "<b>Exercise:</b>  Consider a wavepacket defined as:\n",
    "\n",
    "$\\displaystyle w(x, t; k_0, \\sigma) = \\int_{-\\infty}^{\\infty} \\frac{1}{\\sqrt{2 \\pi \\sigma^2}} e^{ - (k - k_0)^2 / (2 \\sigma^2) } \\sin( k (x - t) ) \\, dk = e^{- \\sigma^2 (x - t)^2 / 2} \\sin(k_0 (x - t))$\n",
    "\n",
    "Here, we inherently describe waves that travel with speed $v = 1 = \\omega / k$.\n",
    "\n",
    "First, why do we call this a wavepacket?  Let's look at this wave at $t = 0$:\n",
    "\n",
    "$\\displaystyle w_0 (x; k_0, \\sigma) = e^{- \\sigma^2 x^2 / 2} \\sin (k_0 x)$\n",
    "\n",
    "This is the wavepacket as a function of $x$, for a given value of $k_0$ and $\\sigma$.  What does $k_0$ and $\\sigma$ mean?  \n",
    "- Create a function **(1)** that will represent $w_0 (x; k_0, \\sigma)$.\n",
    "- We can explore this by creating a function **(2)** whose inputs are $k_0$ and $\\sigma$, and this function will make a plot of $w_0 (x; k_0, \\sigma)$ from x = -10 to 10 for the input values of $k_0$ and $\\sigma$.  You must use the function **(1)** that you created in the previous bullet point.\n",
    "- To make sure that it works, first use your function **(2)** to make a plot with $k_0 = 10$ and $\\sigma = 0.5$.\n",
    "- Create a slider that explores values of $k_0$ from 5 to 20 and $\\sigma$ from 0.5 to 2."
   ]
  },
  {
   "cell_type": "code",
   "execution_count": 3,
   "metadata": {},
   "outputs": [],
   "source": [
    "def wavepacket(x,k,o):\n",
    "    return np.exp(((-o**2)*(x**2)/2))*np.sin(k*x)"
   ]
  },
  {
   "cell_type": "code",
   "execution_count": 4,
   "metadata": {},
   "outputs": [
    {
     "data": {
      "application/vnd.jupyter.widget-view+json": {
       "model_id": "bc864f821b0c4cf0a754e252f7339e4f",
       "version_major": 2,
       "version_minor": 0
      },
      "text/plain": [
       "interactive(children=(IntSlider(value=12, description='k', max=20, min=5), FloatSlider(value=1.200000000000000…"
      ]
     },
     "metadata": {},
     "output_type": "display_data"
    },
    {
     "data": {
      "text/plain": [
       "<function __main__.wavepacketplot(k, o)>"
      ]
     },
     "execution_count": 4,
     "metadata": {},
     "output_type": "execute_result"
    }
   ],
   "source": [
    "def wavepacketplot(k,o):\n",
    "    wavenumber = np.linspace(-10,10,20000)\n",
    "    wave = np.zeros(len(wavenumber))\n",
    "    \n",
    "    for i in range(len(wavenumber)):\n",
    "        wave[i] = wavepacket(wavenumber[i],k,o)\n",
    "    \n",
    "    plt.figure()\n",
    "    plt.plot(wavenumber,wave,color=\"deeppink\")\n",
    "    plt.xlabel(\"wave\")\n",
    "    plt.ylabel(\"wavepacket\")\n",
    "    plt.show()\n",
    "    \n",
    "widgets.interact(wavepacketplot,k=(5,20,1),o=(0.5,2,0.1))"
   ]
  },
  {
   "cell_type": "markdown",
   "metadata": {},
   "source": [
    "Finally, let's see the wavepacket move.\n",
    "- Create a function **(3)** that will output the value of $w(x, t; k_0, \\sigma)$.\n",
    "- Create another function **(4)** whose inputs are $t$, $k_0$, and $\\sigma$ that uses this function to plot $w(x, t; k_0, \\sigma)$ from x = -10 to 10 at time $t$ with the input values of $k_0$ and $\\sigma$.\n",
    "- Create a slider that allows time to elapse from $t =$ 0 to 10 (in steps of 0.1) and the same range of $k_0$ and $\\sigma$."
   ]
  },
  {
   "cell_type": "code",
   "execution_count": 5,
   "metadata": {},
   "outputs": [
    {
     "data": {
      "application/vnd.jupyter.widget-view+json": {
       "model_id": "3a570ff4f0ed4a0fb190a3536613a30c",
       "version_major": 2,
       "version_minor": 0
      },
      "text/plain": [
       "interactive(children=(FloatSlider(value=5.0, description='t', max=10.0), IntSlider(value=12, description='k', …"
      ]
     },
     "metadata": {},
     "output_type": "display_data"
    },
    {
     "data": {
      "text/plain": [
       "<function __main__.output_plot(t, k, o)>"
      ]
     },
     "execution_count": 5,
     "metadata": {},
     "output_type": "execute_result"
    }
   ],
   "source": [
    "def output(x,t,k,o):\n",
    "    return np.exp((-o**2)*((x-t)**2)/2)*np.sin(k*(x-t))\n",
    "\n",
    "def output_plot(t,k,o):\n",
    "    x = np.linspace(-10,10,100)\n",
    "    wave_final = np.zeros(len(x))\n",
    "    \n",
    "    for i in range(len(x)):\n",
    "        wave_final[i] = output(x[i],t,k,o)\n",
    "    \n",
    "    plt.figure()\n",
    "    plt.plot(x,wave_final,color=\"deeppink\")\n",
    "    plt.xlabel(\"time\")\n",
    "    plt.ylabel(\"wave\")\n",
    "    plt.show\n",
    "    \n",
    "widgets.interact(output_plot,t=(0,10,0.1),k=(5,20,1),o=(0.5,2,0.1))"
   ]
  },
  {
   "cell_type": "code",
   "execution_count": null,
   "metadata": {},
   "outputs": [],
   "source": []
  },
  {
   "cell_type": "code",
   "execution_count": null,
   "metadata": {},
   "outputs": [],
   "source": []
  }
 ],
 "metadata": {
  "kernelspec": {
   "display_name": "Python 3 (ipykernel)",
   "language": "python",
   "name": "python3"
  },
  "language_info": {
   "codemirror_mode": {
    "name": "ipython",
    "version": 3
   },
   "file_extension": ".py",
   "mimetype": "text/x-python",
   "name": "python",
   "nbconvert_exporter": "python",
   "pygments_lexer": "ipython3",
   "version": "3.9.7"
  }
 },
 "nbformat": 4,
 "nbformat_minor": 2
}
