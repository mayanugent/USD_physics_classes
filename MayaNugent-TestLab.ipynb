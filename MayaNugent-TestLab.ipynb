{
 "cells": [
  {
   "cell_type": "markdown",
   "metadata": {},
   "source": [
    "# Please complete the following:\n",
    "\n",
    "- Rename the file by clicking on ``TestLab`` above and replacing it with your name in the form ``YourName-TestLab``.  For example, mine will be ``Chad-TestLab``\n",
    "- Run the cell below\n",
    "- Confirm that the slider works\n",
    "- Email me (ckishimoto@sandiego.edu) your saved result."
   ]
  },
  {
   "cell_type": "code",
   "execution_count": 1,
   "metadata": {},
   "outputs": [
    {
     "data": {
      "application/vnd.jupyter.widget-view+json": {
       "model_id": "8b49427ad7e74dc68a252810f467f5cd",
       "version_major": 2,
       "version_minor": 0
      },
      "text/plain": [
       "interactive(children=(FloatSlider(value=5.0, description='A', max=10.0), Output()), _dom_classes=('widget-inte…"
      ]
     },
     "metadata": {},
     "output_type": "display_data"
    },
    {
     "data": {
      "text/plain": [
       "<function __main__.make_plot(A)>"
      ]
     },
     "execution_count": 1,
     "metadata": {},
     "output_type": "execute_result"
    }
   ],
   "source": [
    "%matplotlib inline\n",
    "import numpy as np\n",
    "import matplotlib.pyplot as plt\n",
    "import ipywidgets as widgets\n",
    "\n",
    "def plot_this_function(A,th):\n",
    "    return (A * th) * np.cos(th), (A * th) * np.sin(th)\n",
    "def make_plot(A):\n",
    "    th = np.linspace(0,30,1000)\n",
    "    x_axis = np.zeros(len(th))\n",
    "    y_axis = np.zeros(len(th))\n",
    "    \n",
    "    for i in range(len(x_axis)):\n",
    "        x_axis[i], y_axis[i] = plot_this_function(A, th[i])\n",
    "    plt.figure(figsize=(6,6))\n",
    "    plt.plot(x_axis,y_axis)\n",
    "    plt.ylim(-300,300)\n",
    "    plt.xlim(-300,300)\n",
    "    plt.xlabel(\"x\")\n",
    "    plt.ylabel(\"y\")\n",
    "    plt.show()\n",
    "    \n",
    "widgets.interact(make_plot,A=(0,10,0.1))"
   ]
  },
  {
   "cell_type": "code",
   "execution_count": null,
   "metadata": {},
   "outputs": [],
   "source": []
  }
 ],
 "metadata": {
  "kernelspec": {
   "display_name": "Python 3 (ipykernel)",
   "language": "python",
   "name": "python3"
  },
  "language_info": {
   "codemirror_mode": {
    "name": "ipython",
    "version": 3
   },
   "file_extension": ".py",
   "mimetype": "text/x-python",
   "name": "python",
   "nbconvert_exporter": "python",
   "pygments_lexer": "ipython3",
   "version": "3.9.7"
  }
 },
 "nbformat": 4,
 "nbformat_minor": 2
}
